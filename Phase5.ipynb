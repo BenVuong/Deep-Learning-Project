{
  "nbformat": 4,
  "nbformat_minor": 0,
  "metadata": {
    "colab": {
      "name": "Phase5.ipynb",
      "provenance": []
    },
    "kernelspec": {
      "name": "python3",
      "display_name": "Python 3"
    },
    "language_info": {
      "name": "python"
    }
  },
  "cells": [
    {
      "cell_type": "code",
      "execution_count": 1,
      "metadata": {
        "colab": {
          "resources": {
            "http://localhost:8080/nbextensions/google.colab/files.js": {
              "data": "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",
              "ok": true,
              "headers": [
                [
                  "content-type",
                  "application/javascript"
                ]
              ],
              "status": 200,
              "status_text": ""
            }
          },
          "base_uri": "https://localhost:8080/",
          "height": 73
        },
        "id": "7yTLDwgHoiKJ",
        "outputId": "d3f2073c-a2d3-4bc5-e164-5cf946a3f083"
      },
      "outputs": [
        {
          "output_type": "display_data",
          "data": {
            "text/plain": [
              "<IPython.core.display.HTML object>"
            ],
            "text/html": [
              "\n",
              "     <input type=\"file\" id=\"files-e7fc1370-537c-4697-8db6-110cc465161e\" name=\"files[]\" multiple disabled\n",
              "        style=\"border:none\" />\n",
              "     <output id=\"result-e7fc1370-537c-4697-8db6-110cc465161e\">\n",
              "      Upload widget is only available when the cell has been executed in the\n",
              "      current browser session. Please rerun this cell to enable.\n",
              "      </output>\n",
              "      <script src=\"/nbextensions/google.colab/files.js\"></script> "
            ]
          },
          "metadata": {}
        },
        {
          "output_type": "stream",
          "name": "stdout",
          "text": [
            "Saving DataSetSplitted.zip to DataSetSplitted.zip\n"
          ]
        }
      ],
      "source": [
        "from google.colab import files\n",
        "x = files.upload()"
      ]
    },
    {
      "cell_type": "code",
      "source": [
        "! unzip DataSetSplitted.zip"
      ],
      "metadata": {
        "colab": {
          "base_uri": "https://localhost:8080/"
        },
        "id": "ysa-FoQ2oyu2",
        "outputId": "d17b15b6-741b-438d-ff18-72a47c3c7b88"
      },
      "execution_count": 2,
      "outputs": [
        {
          "output_type": "stream",
          "name": "stdout",
          "text": [
            "Archive:  DataSetSplitted.zip\n",
            "   creating: DataSet/\n",
            "   creating: DataSet/test/\n",
            "   creating: DataSet/test/human/\n",
            "  inflating: DataSet/test/human/Angelina-Jolie-100x130cm-2013.jpg  \n",
            "  inflating: DataSet/test/human/b53d30e509b44bfc5f7bf3d3a03cc000fcd50623.jpeg  \n",
            "  inflating: DataSet/test/human/dam-images-daily-2014-11-martin-schoeller-portraits-martin-schoeller-portraits-02.jpg  \n",
            "  inflating: DataSet/test/human/default.jpg  \n",
            "  inflating: DataSet/test/human/image24.jpeg  \n",
            "  inflating: DataSet/test/human/image32.jpeg  \n",
            "  inflating: DataSet/test/human/image33.jpeg  \n",
            "  inflating: DataSet/test/human/images102.jpg  \n",
            "  inflating: DataSet/test/human/images113.jpg  \n",
            "  inflating: DataSet/test/human/images114.jpg  \n",
            "  inflating: DataSet/test/human/images147.jpg  \n",
            "  inflating: DataSet/test/human/images148.jpg  \n",
            "  inflating: DataSet/test/human/images149.jpg  \n",
            "  inflating: DataSet/test/human/images184.jpg  \n",
            "  inflating: DataSet/test/human/images185.jpg  \n",
            "  inflating: DataSet/test/human/images193.jpg  \n",
            "  inflating: DataSet/test/human/images215.jpg  \n",
            "  inflating: DataSet/test/human/images225.jpg  \n",
            "  inflating: DataSet/test/human/images226.jpg  \n",
            "  inflating: DataSet/test/human/images261.jpg  \n",
            "  inflating: DataSet/test/human/images262.jpg  \n",
            "  inflating: DataSet/test/human/images263.jpg  \n",
            "  inflating: DataSet/test/human/images297.jpg  \n",
            "  inflating: DataSet/test/human/images298.jpg  \n",
            "  inflating: DataSet/test/human/images306.jpg  \n",
            "  inflating: DataSet/test/human/images32.jpg  \n",
            "  inflating: DataSet/test/human/images33.jpg  \n",
            "  inflating: DataSet/test/human/images356.jpg  \n",
            "  inflating: DataSet/test/human/images364.jpg  \n",
            "  inflating: DataSet/test/human/images365.jpg  \n",
            "  inflating: DataSet/test/human/images401.jpg  \n",
            "  inflating: DataSet/test/human/images442.jpg  \n",
            "  inflating: DataSet/test/human/images443.jpg  \n",
            "  inflating: DataSet/test/human/images452.jpg  \n",
            "  inflating: DataSet/test/human/images453.jpg  \n",
            "  inflating: DataSet/test/human/images454.jpg  \n",
            "  inflating: DataSet/test/human/images463.jpg  \n",
            "  inflating: DataSet/test/human/images464.jpg  \n",
            "  inflating: DataSet/test/human/images465.jpg  \n",
            "  inflating: DataSet/test/human/images473.jpg  \n",
            "  inflating: DataSet/test/human/images475.jpg  \n",
            "  inflating: DataSet/test/human/images483.jpg  \n",
            "  inflating: DataSet/test/human/images484.jpg  \n",
            "  inflating: DataSet/test/human/images485.jpg  \n",
            "  inflating: DataSet/test/human/images493.jpg  \n",
            "  inflating: DataSet/test/human/images494.jpg  \n",
            "  inflating: DataSet/test/human/images495.jpg  \n",
            "  inflating: DataSet/test/human/images503.jpg  \n",
            "  inflating: DataSet/test/human/images504.jpg  \n",
            "  inflating: DataSet/test/human/images505.jpg  \n",
            "  inflating: DataSet/test/human/images566.jpg  \n",
            "  inflating: DataSet/test/human/images567.jpg  \n",
            "  inflating: DataSet/test/human/images568.jpg  \n",
            "  inflating: DataSet/test/human/images578.jpg  \n",
            "  inflating: DataSet/test/human/images579.jpg  \n",
            "  inflating: DataSet/test/human/images580.jpg  \n",
            "  inflating: DataSet/test/human/images589.jpg  \n",
            "  inflating: DataSet/test/human/images590.jpg  \n",
            "  inflating: DataSet/test/human/images67.jpg  \n",
            "  inflating: DataSet/test/human/images77.jpg  \n",
            "  inflating: DataSet/test/human/images78.jpg  \n",
            "  inflating: DataSet/test/human/images92.jpg  \n",
            "  inflating: DataSet/test/human/man-388104_640.jpg  \n",
            "  inflating: DataSet/test/human/maxresdefault.jpg  \n",
            "  inflating: DataSet/test/human/Monochrome-Portrait-Photograph.jpg  \n",
            "  inflating: DataSet/test/human/portrait-faces-and-photography-french-woman-eugC3A9nie.jpg  \n",
            "  inflating: DataSet/test/human/Portrait-Ines-Thomsen-Photography-15.-Mai-2016-1-1667x2500.jpg  \n",
            "  inflating: DataSet/test/human/Portrait-Ines-Thomsen-Photography-22.-August-2018-1-1667x2500.jpg  \n",
            "  inflating: DataSet/test/human/portrait-real-black-african-man-600w-505332616.jpg  \n",
            "  inflating: DataSet/test/human/Portrait-Thomsen-Photography-05.-Mai-2019-1661x2500.jpg  \n",
            " extracting: DataSet/test/human/Top-10-photographers-for-travel-portraits12__700.jpg  \n",
            "  inflating: DataSet/test/human/Top-10-photographers-for-travel-portraits14__700.jpg  \n",
            "  inflating: DataSet/test/human/types-of-portrait-photography-fine-art.jpg  \n",
            "   creating: DataSet/test/robot/\n",
            " extracting: DataSet/test/robot/2_doll-3d.png  \n",
            " extracting: DataSet/test/robot/74044163.png  \n",
            "  inflating: DataSet/test/robot/file-20210421-17-19z49sb.jpg  \n",
            "  inflating: DataSet/test/robot/hqdefault.jpg  \n",
            "  inflating: DataSet/test/robot/humanoid_robot_facial_expression.jfif  \n",
            "  inflating: DataSet/test/robot/images (1).jfif  \n",
            "  inflating: DataSet/test/robot/images333.jpg  \n",
            "  inflating: DataSet/test/robot/images335.jpg  \n",
            "  inflating: DataSet/test/robot/images336.jpg  \n",
            " extracting: DataSet/test/robot/images338.jpg  \n",
            "  inflating: DataSet/test/robot/images339.jpg  \n",
            "  inflating: DataSet/test/robot/images340.jpg  \n",
            "  inflating: DataSet/test/robot/images341.jpg  \n",
            "  inflating: DataSet/test/robot/images342.jpg  \n",
            "  inflating: DataSet/test/robot/images343.jpg  \n",
            "  inflating: DataSet/test/robot/images345.jpg  \n",
            "  inflating: DataSet/test/robot/images346.jpg  \n",
            "  inflating: DataSet/test/robot/images347.jpg  \n",
            "  inflating: DataSet/test/robot/images348.jpg  \n",
            "  inflating: DataSet/test/robot/images350.jpg  \n",
            "  inflating: DataSet/test/robot/images351.jpg  \n",
            "  inflating: DataSet/test/robot/images356.jpg  \n",
            "  inflating: DataSet/test/robot/images357.jpg  \n",
            "  inflating: DataSet/test/robot/images359.jpg  \n",
            "  inflating: DataSet/test/robot/images360.jpg  \n",
            "  inflating: DataSet/test/robot/images361.jpg  \n",
            "  inflating: DataSet/test/robot/images362.jpg  \n",
            "  inflating: DataSet/test/robot/images363.jpg  \n",
            "  inflating: DataSet/test/robot/images364.jpg  \n",
            "  inflating: DataSet/test/robot/images366.jpg  \n",
            "  inflating: DataSet/test/robot/images368.jpg  \n",
            "  inflating: DataSet/test/robot/images369.jpg  \n",
            "  inflating: DataSet/test/robot/images37.jpg  \n",
            "  inflating: DataSet/test/robot/images370.jpg  \n",
            "  inflating: DataSet/test/robot/images371.jpg  \n",
            "  inflating: DataSet/test/robot/images372.jpg  \n",
            "  inflating: DataSet/test/robot/images373.jpg  \n",
            "  inflating: DataSet/test/robot/images375.jpg  \n",
            "  inflating: DataSet/test/robot/images376.jpg  \n",
            "  inflating: DataSet/test/robot/images377.jpg  \n",
            "  inflating: DataSet/test/robot/images379.jpg  \n",
            "  inflating: DataSet/test/robot/images380.jpg  \n",
            "  inflating: DataSet/test/robot/images381.jpg  \n",
            "  inflating: DataSet/test/robot/images382.jpg  \n",
            "  inflating: DataSet/test/robot/images384.jpg  \n",
            "  inflating: DataSet/test/robot/images386.jpg  \n",
            "  inflating: DataSet/test/robot/images387.jpg  \n",
            "  inflating: DataSet/test/robot/images388.jpg  \n",
            "  inflating: DataSet/test/robot/images389.jpg  \n",
            "  inflating: DataSet/test/robot/IMG_3280.jpg  \n",
            " extracting: DataSet/test/robot/japanese fashion robot face.PNG  \n",
            "  inflating: DataSet/test/robot/K1ProductBanner.png  \n",
            " extracting: DataSet/test/robot/Marty-V2-cutout-1.png  \n",
            "  inflating: DataSet/test/robot/maxresdefault.jpg  \n",
            "  inflating: DataSet/test/robot/mb-0116-jpg-1595891337.jpg  \n",
            "  inflating: DataSet/test/robot/my-first-robot-educational-kit-descimage.jpg  \n",
            "  inflating: DataSet/test/robot/origin.jpg  \n",
            "  inflating: DataSet/test/robot/pepper.png  \n",
            "  inflating: DataSet/test/robot/PRI_204915508.jpg  \n",
            "  inflating: DataSet/test/robot/QTrobot-autism-robot-for-teaching-communication-to-autsitic-children.jpg  \n",
            "  inflating: DataSet/test/robot/reem-c_foto.jpg  \n",
            "  inflating: DataSet/test/robot/robot-01.png  \n",
            "  inflating: DataSet/test/robot/robot-reporter.jpg  \n",
            "  inflating: DataSet/test/robot/Robot-Video.jpg  \n",
            "  inflating: DataSet/test/robot/robot.jpg  \n",
            "  inflating: DataSet/test/robot/robot2.jpg  \n",
            " extracting: DataSet/test/robot/Robotic-Vital-Signs-01-PRESS.jpg  \n",
            "  inflating: DataSet/test/robot/Robots-Sidekick-Tall-intro.jpg  \n",
            "  inflating: DataSet/test/robot/robot_featured-1032662432.jpg  \n",
            "  inflating: DataSet/test/robot/RZtsdENs2idYQxJql6tLXFBSMHYtfEOCR2QZW09M8cA.JPG.jpg  \n",
            "  inflating: DataSet/test/robot/still-jpg-652x364-1615220324.jpg  \n",
            "  inflating: DataSet/test/robot/TFM-AUT21-Robots-Feat.jpg  \n",
            "  inflating: DataSet/test/robot/THUMB_HORIZONTAL-v1.jpg  \n",
            "   creating: DataSet/train/\n",
            "   creating: DataSet/train/human/\n",
            "  inflating: DataSet/train/human/005a-beauty_shot.jpg  \n",
            "  inflating: DataSet/train/human/112ef6e5390f9ba16756bb5152448b56--washington-dc-norway.jpg  \n",
            "  inflating: DataSet/train/human/1395_3x4.jpg  \n",
            "  inflating: DataSet/train/human/1525891879-150444-oladimeji-odunsi-415606-unsplashjpg.jpg  \n",
            "  inflating: DataSet/train/human/1525891879-188905-aatik-tasneem-138230-unsplashjpg.jpg  \n",
            "  inflating: DataSet/train/human/1525891879-886386-sam-burriss-457746-unsplashjpg.jpg  \n",
            "  inflating: DataSet/train/human/19selfportrait-ikeedeani-2000.jpg  \n",
            "  inflating: DataSet/train/human/568a8dc101dd74a9c66fb8a7948123dd7911aec7.jpg  \n",
            "  inflating: DataSet/train/human/5995856820_55fc525a0d_b.jpg  \n",
            "  inflating: DataSet/train/human/7de150a62065a52b04e4a8779cb2977a.jpg  \n",
            "  inflating: DataSet/train/human/81260052e859d9fe17f80959a0449d65.jpg  \n",
            "  inflating: DataSet/train/human/9pres.jpg  \n",
            "  inflating: DataSet/train/human/Afghan-Girl-Portrait.jpg  \n",
            "  inflating: DataSet/train/human/Billie_Eilish_9-16-2__Credit_JACK_MCKAIN_.jpg  \n",
            "  inflating: DataSet/train/human/black-white-homeless-portraits-lee-jeffries-12.jpg  \n",
            "  inflating: DataSet/train/human/camera-settings-portraits-18.jpg  \n",
            "  inflating: DataSet/train/human/Cameron20Reed20Photography201.jpg  \n",
            "  inflating: DataSet/train/human/CODERED_B1_portrait-photography_hero-img_900x420.jpg.img.jpg  \n",
            "  inflating: DataSet/train/human/CODERED_B1_portrait-photography_P3_714x348.jpg.img.jpg  \n",
            "  inflating: DataSet/train/human/CODERED_B1_portrait_photography-P4b_438x447.jpg.img.jpg  \n",
            "  inflating: DataSet/train/human/dof1.jpg  \n",
            "  inflating: DataSet/train/human/earphotographer-barcelonabeautyphotographer-barcelonafotografobelleza-514735.jpg  \n",
            "  inflating: DataSet/train/human/front-view-person-with-short-hair_23-2148749599.jpg  \n",
            "  inflating: DataSet/train/human/headshot-man-suit-no-tie.jpg  \n",
            "  inflating: DataSet/train/human/hite-monochrome-photography-portrait-photography-photo-shoot-art-model-61483.jpg  \n",
            "  inflating: DataSet/train/human/hoot-brown-hair-monochrome-photography-portrait-photography-art-model-247455.jpg  \n",
            "  inflating: DataSet/train/human/image.jpeg  \n",
            "  inflating: DataSet/train/human/image10.jpeg  \n",
            "  inflating: DataSet/train/human/image11.jpeg  \n",
            "  inflating: DataSet/train/human/image15.jpeg  \n",
            "  inflating: DataSet/train/human/image16.jpeg  \n",
            "  inflating: DataSet/train/human/image17.jpeg  \n",
            "  inflating: DataSet/train/human/image18.jpeg  \n",
            "  inflating: DataSet/train/human/image19.jpeg  \n",
            "  inflating: DataSet/train/human/image2.jpeg  \n",
            "  inflating: DataSet/train/human/image20.jpeg  \n",
            "  inflating: DataSet/train/human/image21.jpeg  \n",
            "  inflating: DataSet/train/human/image25.jpeg  \n",
            "  inflating: DataSet/train/human/image26.jpeg  \n",
            "  inflating: DataSet/train/human/image27.jpeg  \n",
            "  inflating: DataSet/train/human/image28.jpeg  \n",
            "  inflating: DataSet/train/human/image29.jpeg  \n",
            "  inflating: DataSet/train/human/image3.jpeg  \n",
            "  inflating: DataSet/train/human/image30.jpeg  \n",
            "  inflating: DataSet/train/human/image31.jpeg  \n",
            "  inflating: DataSet/train/human/image5.jpeg  \n",
            "  inflating: DataSet/train/human/image6.jpeg  \n",
            "  inflating: DataSet/train/human/image7.jpeg  \n",
            "  inflating: DataSet/train/human/image8.jpeg  \n",
            "  inflating: DataSet/train/human/image9.jpeg  \n",
            "  inflating: DataSet/train/human/images101.jpg  \n",
            "  inflating: DataSet/train/human/images105.jpg  \n",
            "  inflating: DataSet/train/human/images106.jpg  \n",
            "  inflating: DataSet/train/human/images107.jpg  \n",
            "  inflating: DataSet/train/human/images110.jpg  \n",
            "  inflating: DataSet/train/human/images111.jpg  \n",
            "  inflating: DataSet/train/human/images119.jpg  \n",
            "  inflating: DataSet/train/human/images121.jpg  \n",
            "  inflating: DataSet/train/human/images122.jpg  \n",
            "  inflating: DataSet/train/human/images123.jpg  \n",
            "  inflating: DataSet/train/human/images124.jpg  \n",
            "  inflating: DataSet/train/human/images125.jpg  \n",
            "  inflating: DataSet/train/human/images126.jpg  \n",
            "  inflating: DataSet/train/human/images130.jpg  \n",
            "  inflating: DataSet/train/human/images131.jpg  \n",
            "  inflating: DataSet/train/human/images132.jpg  \n",
            "  inflating: DataSet/train/human/images133.jpg  \n",
            "  inflating: DataSet/train/human/images134.jpg  \n",
            "  inflating: DataSet/train/human/images135.jpg  \n",
            "  inflating: DataSet/train/human/images136.jpg  \n",
            "  inflating: DataSet/train/human/images14.jpg  \n",
            "  inflating: DataSet/train/human/images140.jpg  \n",
            "  inflating: DataSet/train/human/images141.jpg  \n",
            "  inflating: DataSet/train/human/images142.jpg  \n",
            "  inflating: DataSet/train/human/images143.jpg  \n",
            "  inflating: DataSet/train/human/images144.jpg  \n",
            "  inflating: DataSet/train/human/images145.jpg  \n",
            "  inflating: DataSet/train/human/images146.jpg  \n",
            "  inflating: DataSet/train/human/images15.jpg  \n",
            "  inflating: DataSet/train/human/images150.jpg  \n",
            "  inflating: DataSet/train/human/images151.jpg  \n",
            "  inflating: DataSet/train/human/images152.jpg  \n",
            "  inflating: DataSet/train/human/images153.jpg  \n",
            "  inflating: DataSet/train/human/images154.jpg  \n",
            "  inflating: DataSet/train/human/images155.jpg  \n",
            "  inflating: DataSet/train/human/images158.jpg  \n",
            "  inflating: DataSet/train/human/images16.jpg  \n",
            "  inflating: DataSet/train/human/images163.jpg  \n",
            "  inflating: DataSet/train/human/images164.jpg  \n",
            "  inflating: DataSet/train/human/images166.jpg  \n",
            "  inflating: DataSet/train/human/images168.jpg  \n",
            "  inflating: DataSet/train/human/images169.jpg  \n",
            "  inflating: DataSet/train/human/images17.jpg  \n",
            "  inflating: DataSet/train/human/images170.jpg  \n",
            "  inflating: DataSet/train/human/images171.jpg  \n",
            "  inflating: DataSet/train/human/images175.jpg  \n",
            "  inflating: DataSet/train/human/images176.jpg  \n",
            "  inflating: DataSet/train/human/images178.jpg  \n",
            "  inflating: DataSet/train/human/images179.jpg  \n",
            "  inflating: DataSet/train/human/images18.jpg  \n",
            "  inflating: DataSet/train/human/images180.jpg  \n",
            "  inflating: DataSet/train/human/images181.jpg  \n",
            "  inflating: DataSet/train/human/images182.jpg  \n",
            "  inflating: DataSet/train/human/images186.jpg  \n",
            "  inflating: DataSet/train/human/images187.jpg  \n",
            "  inflating: DataSet/train/human/images188.jpg  \n",
            "  inflating: DataSet/train/human/images189.jpg  \n",
            "  inflating: DataSet/train/human/images19.jpg  \n",
            "  inflating: DataSet/train/human/images190.jpg  \n",
            "  inflating: DataSet/train/human/images191.jpg  \n",
            "  inflating: DataSet/train/human/images192.jpg  \n",
            "  inflating: DataSet/train/human/images196.jpg  \n",
            "  inflating: DataSet/train/human/images197.jpg  \n",
            "  inflating: DataSet/train/human/images198.jpg  \n",
            "  inflating: DataSet/train/human/images199.jpg  \n",
            "  inflating: DataSet/train/human/images2.jpg  \n",
            "  inflating: DataSet/train/human/images20.jpg  \n",
            "  inflating: DataSet/train/human/images200.jpg  \n",
            "  inflating: DataSet/train/human/images201.jpg  \n",
            "  inflating: DataSet/train/human/images202.jpg  \n",
            "  inflating: DataSet/train/human/images206.jpg  \n",
            "  inflating: DataSet/train/human/images207.jpg  \n",
            "  inflating: DataSet/train/human/images208.jpg  \n",
            "  inflating: DataSet/train/human/images209.jpg  \n",
            "  inflating: DataSet/train/human/images210.jpg  \n",
            "  inflating: DataSet/train/human/images211.jpg  \n",
            "  inflating: DataSet/train/human/images212.jpg  \n",
            "  inflating: DataSet/train/human/images216.jpg  \n",
            "  inflating: DataSet/train/human/images218.jpg  \n",
            "  inflating: DataSet/train/human/images219.jpg  \n",
            "  inflating: DataSet/train/human/images220.jpg  \n",
            "  inflating: DataSet/train/human/images221.jpg  \n",
            "  inflating: DataSet/train/human/images223.jpg  \n",
            "  inflating: DataSet/train/human/images224.jpg  \n",
            "  inflating: DataSet/train/human/images228.jpg  \n",
            "  inflating: DataSet/train/human/images230.jpg  \n",
            "  inflating: DataSet/train/human/images231.jpg  \n",
            " extracting: DataSet/train/human/images232.jpg  \n",
            "  inflating: DataSet/train/human/images233.jpg  \n",
            "  inflating: DataSet/train/human/images234.jpg  \n",
            "  inflating: DataSet/train/human/images235.jpg  \n",
            "  inflating: DataSet/train/human/images24.jpg  \n",
            "  inflating: DataSet/train/human/images241.jpg  \n",
            "  inflating: DataSet/train/human/images242.jpg  \n",
            "  inflating: DataSet/train/human/images243.jpg  \n",
            "  inflating: DataSet/train/human/images244.jpg  \n",
            "  inflating: DataSet/train/human/images245.jpg  \n",
            "  inflating: DataSet/train/human/images246.jpg  \n",
            "  inflating: DataSet/train/human/images247.jpg  \n",
            "  inflating: DataSet/train/human/images25.jpg  \n",
            "  inflating: DataSet/train/human/images251.jpg  \n",
            "  inflating: DataSet/train/human/images252.jpg  \n",
            "  inflating: DataSet/train/human/images253.jpg  \n",
            "  inflating: DataSet/train/human/images254.jpg  \n",
            "  inflating: DataSet/train/human/images256.jpg  \n",
            "  inflating: DataSet/train/human/images257.jpg  \n",
            "  inflating: DataSet/train/human/images259.jpg  \n",
            "  inflating: DataSet/train/human/images26.jpg  \n",
            "  inflating: DataSet/train/human/images264.jpg  \n",
            "  inflating: DataSet/train/human/images266.jpg  \n",
            "  inflating: DataSet/train/human/images267.jpg  \n",
            "  inflating: DataSet/train/human/images268.jpg  \n",
            "  inflating: DataSet/train/human/images269.jpg  \n",
            "  inflating: DataSet/train/human/images27.jpg  \n",
            "  inflating: DataSet/train/human/images270.jpg  \n",
            "  inflating: DataSet/train/human/images272.jpg  \n",
            "  inflating: DataSet/train/human/images276.jpg  \n",
            "  inflating: DataSet/train/human/images277.jpg  \n",
            "  inflating: DataSet/train/human/images278.jpg  \n",
            "  inflating: DataSet/train/human/images279.jpg  \n",
            "  inflating: DataSet/train/human/images28.jpg  \n",
            "  inflating: DataSet/train/human/images280.jpg  \n",
            "  inflating: DataSet/train/human/images282.jpg  \n",
            "  inflating: DataSet/train/human/images283.jpg  \n",
            "  inflating: DataSet/train/human/images289.jpg  \n",
            "  inflating: DataSet/train/human/images29.jpg  \n",
            "  inflating: DataSet/train/human/images291.jpg  \n",
            "  inflating: DataSet/train/human/images292.jpg  \n",
            "  inflating: DataSet/train/human/images293.jpg  \n",
            "  inflating: DataSet/train/human/images294.jpg  \n",
            "  inflating: DataSet/train/human/images295.jpg  \n",
            "  inflating: DataSet/train/human/images299.jpg  \n",
            "  inflating: DataSet/train/human/images3.jpg  \n",
            "  inflating: DataSet/train/human/images30.jpg  \n",
            "  inflating: DataSet/train/human/images300.jpg  \n",
            "  inflating: DataSet/train/human/images301.jpg  \n",
            "  inflating: DataSet/train/human/images302.jpg  \n",
            "  inflating: DataSet/train/human/images303.jpg  \n",
            "  inflating: DataSet/train/human/images304.jpg  \n",
            "  inflating: DataSet/train/human/images305.jpg  \n",
            "  inflating: DataSet/train/human/images309.jpg  \n",
            "  inflating: DataSet/train/human/images310.jpg  \n",
            " extracting: DataSet/train/human/images311.jpg  \n",
            "  inflating: DataSet/train/human/images313.jpg  \n",
            "  inflating: DataSet/train/human/images314.jpg  \n",
            "  inflating: DataSet/train/human/images315.jpg  \n",
            "  inflating: DataSet/train/human/images316.jpg  \n",
            "  inflating: DataSet/train/human/images320.jpg  \n",
            "  inflating: DataSet/train/human/images321.jpg  \n",
            "  inflating: DataSet/train/human/images326.jpg  \n",
            "  inflating: DataSet/train/human/images327.jpg  \n",
            "  inflating: DataSet/train/human/images328.jpg  \n",
            "  inflating: DataSet/train/human/images34.jpg  \n",
            "  inflating: DataSet/train/human/images35.jpg  \n",
            "  inflating: DataSet/train/human/images350.jpg  \n",
            "  inflating: DataSet/train/human/images351.jpg  \n",
            "  inflating: DataSet/train/human/images357.jpg  \n",
            "  inflating: DataSet/train/human/images358.jpg  \n",
            "  inflating: DataSet/train/human/images359.jpg  \n",
            "  inflating: DataSet/train/human/images36.jpg  \n",
            "  inflating: DataSet/train/human/images360.jpg  \n",
            "  inflating: DataSet/train/human/images361.jpg  \n",
            "  inflating: DataSet/train/human/images362.jpg  \n",
            "  inflating: DataSet/train/human/images363.jpg  \n",
            "  inflating: DataSet/train/human/images367.jpg  \n",
            "  inflating: DataSet/train/human/images368.jpg  \n",
            "  inflating: DataSet/train/human/images369.jpg  \n",
            "  inflating: DataSet/train/human/images37.jpg  \n",
            "  inflating: DataSet/train/human/images370.jpg  \n",
            "  inflating: DataSet/train/human/images371.jpg  \n",
            "  inflating: DataSet/train/human/images373.jpg  \n",
            "  inflating: DataSet/train/human/images376.jpg  \n",
            "  inflating: DataSet/train/human/images38.jpg  \n",
            " extracting: DataSet/train/human/images381.jpg  \n",
            "  inflating: DataSet/train/human/images382.jpg  \n",
            "  inflating: DataSet/train/human/images383.jpg  \n",
            "  inflating: DataSet/train/human/images384.jpg  \n",
            "  inflating: DataSet/train/human/images385.jpg  \n",
            "  inflating: DataSet/train/human/images386.jpg  \n",
            "  inflating: DataSet/train/human/images387.jpg  \n",
            "  inflating: DataSet/train/human/images39.jpg  \n",
            "  inflating: DataSet/train/human/images391.jpg  \n",
            "  inflating: DataSet/train/human/images392.jpg  \n",
            "  inflating: DataSet/train/human/images393.jpg  \n",
            "  inflating: DataSet/train/human/images396.jpg  \n",
            "  inflating: DataSet/train/human/images397.jpg  \n",
            "  inflating: DataSet/train/human/images398.jpg  \n",
            "  inflating: DataSet/train/human/images4.jpg  \n",
            "  inflating: DataSet/train/human/images40.jpg  \n",
            "  inflating: DataSet/train/human/images400.jpg  \n",
            "  inflating: DataSet/train/human/images444.jpg  \n",
            "  inflating: DataSet/train/human/images445.jpg  \n",
            "  inflating: DataSet/train/human/images446.jpg  \n",
            "  inflating: DataSet/train/human/images447.jpg  \n",
            "  inflating: DataSet/train/human/images449.jpg  \n",
            "  inflating: DataSet/train/human/images450.jpg  \n",
            "  inflating: DataSet/train/human/images451.jpg  \n",
            "  inflating: DataSet/train/human/images455.jpg  \n",
            "  inflating: DataSet/train/human/images456.jpg  \n",
            "  inflating: DataSet/train/human/images457.jpg  \n",
            "  inflating: DataSet/train/human/images458.jpg  \n",
            "  inflating: DataSet/train/human/images46.jpg  \n",
            "  inflating: DataSet/train/human/images460.jpg  \n",
            "  inflating: DataSet/train/human/images461.jpg  \n",
            "  inflating: DataSet/train/human/images466.jpg  \n",
            "  inflating: DataSet/train/human/images467.jpg  \n",
            "  inflating: DataSet/train/human/images468.jpg  \n",
            "  inflating: DataSet/train/human/images469.jpg  \n",
            "  inflating: DataSet/train/human/images47.jpg  \n",
            "  inflating: DataSet/train/human/images470.jpg  \n",
            "  inflating: DataSet/train/human/images471.jpg  \n",
            "  inflating: DataSet/train/human/images472.jpg  \n",
            "  inflating: DataSet/train/human/images476.jpg  \n",
            "  inflating: DataSet/train/human/images477.jpg  \n",
            "  inflating: DataSet/train/human/images478.jpg  \n",
            "  inflating: DataSet/train/human/images479.jpg  \n",
            "  inflating: DataSet/train/human/images48.jpg  \n",
            "  inflating: DataSet/train/human/images480.jpg  \n",
            "  inflating: DataSet/train/human/images481.jpg  \n",
            "  inflating: DataSet/train/human/images482.jpg  \n",
            "  inflating: DataSet/train/human/images486.jpg  \n",
            "  inflating: DataSet/train/human/images487.jpg  \n",
            "  inflating: DataSet/train/human/images488.jpg  \n",
            "  inflating: DataSet/train/human/images489.jpg  \n",
            "  inflating: DataSet/train/human/images49.jpg  \n",
            "  inflating: DataSet/train/human/images490.jpg  \n",
            "  inflating: DataSet/train/human/images491.jpg  \n",
            "  inflating: DataSet/train/human/images492.jpg  \n",
            "  inflating: DataSet/train/human/images496.jpg  \n",
            "  inflating: DataSet/train/human/images497.jpg  \n",
            "  inflating: DataSet/train/human/images498.jpg  \n",
            "  inflating: DataSet/train/human/images499.jpg  \n",
            "  inflating: DataSet/train/human/images5.jpg  \n",
            "  inflating: DataSet/train/human/images50.jpg  \n",
            "  inflating: DataSet/train/human/images500.jpg  \n",
            "  inflating: DataSet/train/human/images501.jpg  \n",
            "  inflating: DataSet/train/human/images502.jpg  \n",
            "  inflating: DataSet/train/human/images507.jpg  \n",
            "  inflating: DataSet/train/human/images508.jpg  \n",
            "  inflating: DataSet/train/human/images509.jpg  \n",
            "  inflating: DataSet/train/human/images51.jpg  \n",
            "  inflating: DataSet/train/human/images510.jpg  \n",
            "  inflating: DataSet/train/human/images511.jpg  \n",
            "  inflating: DataSet/train/human/images52.jpg  \n",
            "  inflating: DataSet/train/human/images564.jpg  \n",
            "  inflating: DataSet/train/human/images565.jpg  \n",
            "  inflating: DataSet/train/human/images569.jpg  \n",
            "  inflating: DataSet/train/human/images57.jpg  \n",
            "  inflating: DataSet/train/human/images570.jpg  \n",
            "  inflating: DataSet/train/human/images571.jpg  \n",
            "  inflating: DataSet/train/human/images572.jpg  \n",
            "  inflating: DataSet/train/human/images573.jpg  \n",
            "  inflating: DataSet/train/human/images574.jpg  \n",
            "  inflating: DataSet/train/human/images577.jpg  \n",
            "  inflating: DataSet/train/human/images58.jpg  \n",
            "  inflating: DataSet/train/human/images581.jpg  \n",
            "  inflating: DataSet/train/human/images582.jpg  \n",
            "  inflating: DataSet/train/human/images583.jpg  \n",
            "  inflating: DataSet/train/human/images584.jpg  \n",
            "  inflating: DataSet/train/human/images585.jpg  \n",
            "  inflating: DataSet/train/human/images586.jpg  \n",
            "  inflating: DataSet/train/human/images587.jpg  \n",
            "  inflating: DataSet/train/human/images59.jpg  \n",
            "  inflating: DataSet/train/human/images591.jpg  \n",
            "  inflating: DataSet/train/human/images592.jpg  \n",
            "  inflating: DataSet/train/human/images593.jpg  \n",
            "  inflating: DataSet/train/human/images6.jpg  \n",
            "  inflating: DataSet/train/human/images61.jpg  \n",
            "  inflating: DataSet/train/human/images62.jpg  \n",
            "  inflating: DataSet/train/human/images63.jpg  \n",
            "  inflating: DataSet/train/human/images64.jpg  \n",
            "  inflating: DataSet/train/human/images69.jpg  \n",
            "  inflating: DataSet/train/human/images7.jpg  \n",
            "  inflating: DataSet/train/human/images70.jpg  \n",
            "  inflating: DataSet/train/human/images71.jpg  \n",
            "  inflating: DataSet/train/human/images72.jpg  \n",
            "  inflating: DataSet/train/human/images73.jpg  \n",
            "  inflating: DataSet/train/human/images75.jpg  \n",
            "  inflating: DataSet/train/human/images76.jpg  \n",
            "  inflating: DataSet/train/human/images8.jpg  \n",
            "  inflating: DataSet/train/human/images81.jpg  \n",
            "  inflating: DataSet/train/human/images82.jpg  \n",
            "  inflating: DataSet/train/human/images83.jpg  \n",
            "  inflating: DataSet/train/human/images84.jpg  \n",
            "  inflating: DataSet/train/human/images85.jpg  \n",
            "  inflating: DataSet/train/human/images86.jpg  \n",
            "  inflating: DataSet/train/human/images88.jpg  \n",
            "  inflating: DataSet/train/human/images93.jpg  \n",
            "  inflating: DataSet/train/human/images94.jpg  \n",
            "  inflating: DataSet/train/human/images96.jpg  \n",
            "  inflating: DataSet/train/human/images97.jpg  \n",
            "  inflating: DataSet/train/human/images98.jpg  \n",
            "  inflating: DataSet/train/human/images99.jpg  \n",
            "  inflating: DataSet/train/human/Jackson-Shudu-Gram.jpg  \n",
            "  inflating: DataSet/train/human/K25C325A9rastase2520-2520Emily2520Ratajkowski2520FINAL.jpg  \n",
            "  inflating: DataSet/train/human/LF-450-5.jpg  \n",
            "  inflating: DataSet/train/human/LF-450-52.jpg  \n",
            "  inflating: DataSet/train/human/news_preview_mob_image__preview_546.jpg  \n",
            "  inflating: DataSet/train/human/p5quSf4dZXctG9WFepXFdR-320-80.jpg  \n",
            "  inflating: DataSet/train/human/Person-near-tree.jpg  \n",
            "  inflating: DataSet/train/human/pexels-photo-7404778.jpeg  \n",
            "  inflating: DataSet/train/human/photo-of-woman-wearing-yellow.jpg  \n",
            "  inflating: DataSet/train/human/Platon_BarackObama.jpg  \n",
            "  inflating: DataSet/train/human/portrait-lighting.jpg  \n",
            "  inflating: DataSet/train/human/portrait-lighting2.jpg  \n",
            "  inflating: DataSet/train/human/portrait-photography-by-dennis-drozhzhin.jpg  \n",
            "  inflating: DataSet/train/human/portrait-photography-exposure-4.jpg  \n",
            "  inflating: DataSet/train/human/portrait-photography-focal-length-50mm-1.jpg  \n",
            "  inflating: DataSet/train/human/portrait-photography-shoot-head-on-1.jpg  \n",
            "  inflating: DataSet/train/human/portrait-photography.jpg  \n",
            "  inflating: DataSet/train/human/portrait21.jpg  \n",
            "  inflating: DataSet/train/human/raction-photo-shoot-sense-monochrome-photography-portrait-photography-247368.jpg  \n",
            "  inflating: DataSet/train/human/Rodrigo2520Oliveira2C2520I25CC2581caro2520em2520estu25CC2581dio2520improvisado25CC25812C25202019.jpg  \n",
            "  inflating: DataSet/train/human/skin-curly-hair-happy-person-portrait-smiling-young-friendly-woman-197501184.jpg  \n",
            "  inflating: DataSet/train/human/Smiling-portrait.jpg  \n",
            "  inflating: DataSet/train/human/surprised-woman.jpg  \n",
            "  inflating: DataSet/train/human/S_NPG_2004_110_4_42520Simpson2520det2520R.jpg  \n",
            "  inflating: DataSet/train/human/thought-catalog-v7EOw5SA4I-unsplash.jpg  \n",
            "  inflating: DataSet/train/human/ways-to-take-stunning-portraits-5.jpg  \n",
            "  inflating: DataSet/train/human/zuckerberg.jpg  \n",
            "   creating: DataSet/train/robot/\n",
            "  inflating: DataSet/train/robot/011717_robotlonliness_THUMB-732x415.jpg  \n",
            "  inflating: DataSet/train/robot/0361_1_fp722449.jpg  \n",
            "  inflating: DataSet/train/robot/101419_top5robots_hero.jpg  \n",
            "  inflating: DataSet/train/robot/106996287-1641299961386-0x0-KJC_5055-1.jpg  \n",
            "  inflating: DataSet/train/robot/111018-rusty-c3po-roger-shultz.jpg  \n",
            "  inflating: DataSet/train/robot/1200px-Nao_Robot_28Robocup_201629.jpg  \n",
            "  inflating: DataSet/train/robot/1440x810_cmsv2_435e4703-bf7f-5c8c-b99c-695cc3198fcb-5994990.jpg  \n",
            "  inflating: DataSet/train/robot/2016-0343_(0010).jpeg  \n",
            "  inflating: DataSet/train/robot/2018-11-26T081248Z_357162948_RC1A9958AF50_RTRMADP_3_JAPAN-ROBOTCAFE-e1635721537544.jpg  \n",
            "  inflating: DataSet/train/robot/211018031643-embodied-moxie-robot-full-169.jpg  \n",
            "  inflating: DataSet/train/robot/211208134822-screengrab-ameca-humanoid-robot.jpg  \n",
            "  inflating: DataSet/train/robot/3000.jpeg  \n",
            "  inflating: DataSet/train/robot/4436987052_ae94c2cfb7_k.jpg  \n",
            "  inflating: DataSet/train/robot/52525_robot.jpg  \n",
            "  inflating: DataSet/train/robot/5674d40c-36ff-422f-a44e-c8c368f9228a.jpg  \n",
            "  inflating: DataSet/train/robot/58bea03b-25b4-41f9-971c-a99c520ed1f5.822fe3c6cff9097028a63efd26d0b79f.jpeg  \n",
            "  inflating: DataSet/train/robot/6006503_ra.jpg  \n",
            "  inflating: DataSet/train/robot/616gY8nYY7L._AC_SX425_.jpg  \n",
            "  inflating: DataSet/train/robot/64ed4fd6-e51b-42b8-ab23-edd6fae5b583.jpg  \n",
            "  inflating: DataSet/train/robot/6fc134b0-f3be-4728-a0fa-b5660f5b8ed59c9588a9ca39df6e01_49932610763_5b97fa355b_k.jpg  \n",
            "  inflating: DataSet/train/robot/74b7154550aa5f6160b79e8707b9eef3--google-robot-military-robot.jpg  \n",
            "  inflating: DataSet/train/robot/814pBGeLNqL._AC_SX425_.jpg  \n",
            "  inflating: DataSet/train/robot/85ACDCFF-EEF5-4783-AA1220CF80826E28_source.jpg  \n",
            "  inflating: DataSet/train/robot/960x0.jpg  \n",
            "  inflating: DataSet/train/robot/ADAM.jpg  \n",
            "  inflating: DataSet/train/robot/Ameca-the-hyperrealistic-humanoid-robot.jpg  \n",
            "  inflating: DataSet/train/robot/Ameca_05-1.jpg  \n",
            "  inflating: DataSet/train/robot/amin-akhshi-sn-3-nova-assistant-robot-concept-designboom-001.jpg  \n",
            "  inflating: DataSet/train/robot/ARI-Robot.jpg  \n",
            "  inflating: DataSet/train/robot/army.mil-92710-2010-11-23-061154.jpg  \n",
            "  inflating: DataSet/train/robot/ASIMO-humanoid-robot-Honda-Motor-Co-stairs.jpg  \n",
            "  inflating: DataSet/train/robot/CHdU2ccdiA9PPtUGwSN3md-320-80.jpg  \n",
            "  inflating: DataSet/train/robot/chihiro-junko-android.jpg  \n",
            "  inflating: DataSet/train/robot/d3af0719-fddb-447e-94da-cdfa515bb5df-Leo0197.JPG.jpg  \n",
            "  inflating: DataSet/train/robot/dc4ce260-5663-11ec-b3d7-6d9e558ffeb3.cf.jpg  \n",
            "  inflating: DataSet/train/robot/Diligent_2021-team-photos_Andrea_solo-w-Moxi2.jpg  \n",
            "  inflating: DataSet/train/robot/download.jfif  \n",
            "  inflating: DataSet/train/robot/e94e0018acb445e68e23aa891aceba61lg.jpg  \n",
            "  inflating: DataSet/train/robot/EN4IHUGWSRPG5LYPMWKA5FRNHU.jpg  \n",
            "  inflating: DataSet/train/robot/Engineered_Arts_Ameca_Look_Up_CES_2022.jpeg  \n",
            "  inflating: DataSet/train/robot/ERS-111-AIBO.jpg  \n",
            "  inflating: DataSet/train/robot/ex-robot.png  \n",
            " extracting: DataSet/train/robot/file-20170710-29710-1p3gdyz.jpg  \n",
            "  inflating: DataSet/train/robot/file-20211210-27-1o7cvsn.jpg  \n",
            " extracting: DataSet/train/robot/full-nao.png  \n",
            "  inflating: DataSet/train/robot/Gear-Rocki-Robot-top.jpg  \n",
            "  inflating: DataSet/train/robot/GettyImages-1195224266-crop-570785e.jpg  \n",
            "  inflating: DataSet/train/robot/HcFWuivy4FEhmEwr62VwLY.jpg  \n",
            "  inflating: DataSet/train/robot/Homepage_Product_2021-Walker_4.1-FG.png  \n",
            " extracting: DataSet/train/robot/HONDA_ASIMO.jpg  \n",
            "  inflating: DataSet/train/robot/humanoid.jpg  \n",
            "  inflating: DataSet/train/robot/Humanoids-of-2020_sophia.jpg  \n",
            "  inflating: DataSet/train/robot/iCubRobot_1024.jpg  \n",
            "  inflating: DataSet/train/robot/image.jpeg  \n",
            "  inflating: DataSet/train/robot/image10.jpeg  \n",
            "  inflating: DataSet/train/robot/image11.jpeg  \n",
            "  inflating: DataSet/train/robot/image12.jpeg  \n",
            "  inflating: DataSet/train/robot/image13.jpeg  \n",
            "  inflating: DataSet/train/robot/image14.jpeg  \n",
            "  inflating: DataSet/train/robot/image15.jpeg  \n",
            "  inflating: DataSet/train/robot/image17.jpeg  \n",
            "  inflating: DataSet/train/robot/image18.jpeg  \n",
            "  inflating: DataSet/train/robot/image2.jpeg  \n",
            "  inflating: DataSet/train/robot/image20.jpeg  \n",
            "  inflating: DataSet/train/robot/image21.jpeg  \n",
            "  inflating: DataSet/train/robot/image22.jpeg  \n",
            "  inflating: DataSet/train/robot/image24.jpeg  \n",
            "  inflating: DataSet/train/robot/image25.jpeg  \n",
            "  inflating: DataSet/train/robot/image26.jpeg  \n",
            "  inflating: DataSet/train/robot/image27.jpeg  \n",
            "  inflating: DataSet/train/robot/image28.jpeg  \n",
            "  inflating: DataSet/train/robot/image29.jpeg  \n",
            "  inflating: DataSet/train/robot/image3.jpeg  \n",
            "  inflating: DataSet/train/robot/image30.jpeg  \n",
            "  inflating: DataSet/train/robot/image31.jpeg  \n",
            "  inflating: DataSet/train/robot/image32.jpeg  \n",
            "  inflating: DataSet/train/robot/image33.jpeg  \n",
            "  inflating: DataSet/train/robot/image34.jpeg  \n",
            "  inflating: DataSet/train/robot/image35.jpeg  \n",
            "  inflating: DataSet/train/robot/image36.jpg  \n",
            "  inflating: DataSet/train/robot/image4.jpeg  \n",
            "  inflating: DataSet/train/robot/image5.jpeg  \n",
            "  inflating: DataSet/train/robot/image6.jpeg  \n",
            "  inflating: DataSet/train/robot/image7.jpeg  \n",
            "  inflating: DataSet/train/robot/image8.jpeg  \n",
            "  inflating: DataSet/train/robot/image9.jpeg  \n",
            "  inflating: DataSet/train/robot/images.jfif  \n",
            " extracting: DataSet/train/robot/images.jpg  \n",
            "  inflating: DataSet/train/robot/images10.jpg  \n",
            "  inflating: DataSet/train/robot/images104.jpg  \n",
            "  inflating: DataSet/train/robot/images105.jpg  \n",
            "  inflating: DataSet/train/robot/images106.jpg  \n",
            "  inflating: DataSet/train/robot/images108.jpg  \n",
            "  inflating: DataSet/train/robot/images11.jpg  \n",
            "  inflating: DataSet/train/robot/images110.jpg  \n",
            "  inflating: DataSet/train/robot/images111.jpg  \n",
            "  inflating: DataSet/train/robot/images112.jpg  \n",
            "  inflating: DataSet/train/robot/images113.jpg  \n",
            "  inflating: DataSet/train/robot/images114.jpg  \n",
            "  inflating: DataSet/train/robot/images115.jpg  \n",
            "  inflating: DataSet/train/robot/images116.jpg  \n",
            "  inflating: DataSet/train/robot/images117.jpg  \n",
            "  inflating: DataSet/train/robot/images118.jpg  \n",
            "  inflating: DataSet/train/robot/images119.jpg  \n",
            "  inflating: DataSet/train/robot/images12.jpg  \n",
            "  inflating: DataSet/train/robot/images120.jpg  \n",
            "  inflating: DataSet/train/robot/images122.jpg  \n",
            "  inflating: DataSet/train/robot/images123.jpg  \n",
            "  inflating: DataSet/train/robot/images124.jpg  \n",
            "  inflating: DataSet/train/robot/images125.jpg  \n",
            "  inflating: DataSet/train/robot/images126.jpg  \n",
            "  inflating: DataSet/train/robot/images127.jpg  \n",
            "  inflating: DataSet/train/robot/images128.jpg  \n",
            "  inflating: DataSet/train/robot/images129.jpg  \n",
            "  inflating: DataSet/train/robot/images13.jpg  \n",
            "  inflating: DataSet/train/robot/images130.jpg  \n",
            "  inflating: DataSet/train/robot/images131.jpg  \n",
            "  inflating: DataSet/train/robot/images132.jpg  \n",
            "  inflating: DataSet/train/robot/images133.jpg  \n",
            "  inflating: DataSet/train/robot/images135.jpg  \n",
            "  inflating: DataSet/train/robot/images137.jpg  \n",
            "  inflating: DataSet/train/robot/images138.jpg  \n",
            "  inflating: DataSet/train/robot/images139.jpg  \n",
            "  inflating: DataSet/train/robot/images14.jpg  \n",
            "  inflating: DataSet/train/robot/images140.jpg  \n",
            "  inflating: DataSet/train/robot/images141.jpg  \n",
            "  inflating: DataSet/train/robot/images142.jpg  \n",
            "  inflating: DataSet/train/robot/images143.jpg  \n",
            "  inflating: DataSet/train/robot/images144.jpg  \n",
            "  inflating: DataSet/train/robot/images145.jpg  \n",
            "  inflating: DataSet/train/robot/images146.jpg  \n",
            "  inflating: DataSet/train/robot/images147.jpg  \n",
            "  inflating: DataSet/train/robot/images148.jpg  \n",
            " extracting: DataSet/train/robot/images149.jpg  \n",
            "  inflating: DataSet/train/robot/images15.jpg  \n",
            "  inflating: DataSet/train/robot/images150.jpg  \n",
            "  inflating: DataSet/train/robot/images151.jpg  \n",
            "  inflating: DataSet/train/robot/images152.jpg  \n",
            "  inflating: DataSet/train/robot/images153.jpg  \n",
            "  inflating: DataSet/train/robot/images154.jpg  \n",
            "  inflating: DataSet/train/robot/images156.jpg  \n",
            "  inflating: DataSet/train/robot/images157.jpg  \n",
            "  inflating: DataSet/train/robot/images158.jpg  \n",
            "  inflating: DataSet/train/robot/images159.jpg  \n",
            "  inflating: DataSet/train/robot/images16.jpg  \n",
            "  inflating: DataSet/train/robot/images160.jpg  \n",
            "  inflating: DataSet/train/robot/images162.jpg  \n",
            "  inflating: DataSet/train/robot/images163.jpg  \n",
            "  inflating: DataSet/train/robot/images165.jpg  \n",
            "  inflating: DataSet/train/robot/images166.jpg  \n",
            "  inflating: DataSet/train/robot/images167.jpg  \n",
            "  inflating: DataSet/train/robot/images168.jpg  \n",
            "  inflating: DataSet/train/robot/images169.jpg  \n",
            "  inflating: DataSet/train/robot/images17.jpg  \n",
            "  inflating: DataSet/train/robot/images170.jpg  \n",
            "  inflating: DataSet/train/robot/images171.jpg  \n",
            "  inflating: DataSet/train/robot/images172.jpg  \n",
            "  inflating: DataSet/train/robot/images173.jpg  \n",
            "  inflating: DataSet/train/robot/images174.jpg  \n",
            "  inflating: DataSet/train/robot/images175.jpg  \n",
            "  inflating: DataSet/train/robot/images176.jpg  \n",
            "  inflating: DataSet/train/robot/images177.jpg  \n",
            "  inflating: DataSet/train/robot/images178.jpg  \n",
            "  inflating: DataSet/train/robot/images179.jpg  \n",
            "  inflating: DataSet/train/robot/images180.jpg  \n",
            "  inflating: DataSet/train/robot/images181.jpg  \n",
            "  inflating: DataSet/train/robot/images182.jpg  \n",
            "  inflating: DataSet/train/robot/images184.jpg  \n",
            "  inflating: DataSet/train/robot/images186.jpg  \n",
            "  inflating: DataSet/train/robot/images187.jpg  \n",
            "  inflating: DataSet/train/robot/images189.jpg  \n",
            "  inflating: DataSet/train/robot/images19.jpg  \n",
            "  inflating: DataSet/train/robot/images190.jpg  \n",
            "  inflating: DataSet/train/robot/images191.jpg  \n",
            "  inflating: DataSet/train/robot/images193.jpg  \n",
            "  inflating: DataSet/train/robot/images194.jpg  \n",
            "  inflating: DataSet/train/robot/images196.jpg  \n",
            "  inflating: DataSet/train/robot/images197.jpg  \n",
            " extracting: DataSet/train/robot/images198.jpg  \n",
            "  inflating: DataSet/train/robot/images199.jpg  \n",
            "  inflating: DataSet/train/robot/images2.jpg  \n",
            "  inflating: DataSet/train/robot/images20.jpg  \n",
            "  inflating: DataSet/train/robot/images200.jpg  \n",
            "  inflating: DataSet/train/robot/images201.jpg  \n",
            "  inflating: DataSet/train/robot/images202.jpg  \n",
            "  inflating: DataSet/train/robot/images203.jpg  \n",
            "  inflating: DataSet/train/robot/images204.jpg  \n",
            "  inflating: DataSet/train/robot/images205.jpg  \n",
            "  inflating: DataSet/train/robot/images206.jpg  \n",
            "  inflating: DataSet/train/robot/images207.jpg  \n",
            "  inflating: DataSet/train/robot/images208.jpg  \n",
            "  inflating: DataSet/train/robot/images21.jpg  \n",
            "  inflating: DataSet/train/robot/images210.jpg  \n",
            "  inflating: DataSet/train/robot/images211.jpg  \n",
            "  inflating: DataSet/train/robot/images212.jpg  \n",
            "  inflating: DataSet/train/robot/images213.jpg  \n",
            "  inflating: DataSet/train/robot/images215.jpg  \n",
            "  inflating: DataSet/train/robot/images216.jpg  \n",
            "  inflating: DataSet/train/robot/images217.jpg  \n",
            "  inflating: DataSet/train/robot/images218.jpg  \n",
            "  inflating: DataSet/train/robot/images219.jpg  \n",
            "  inflating: DataSet/train/robot/images22.jpg  \n",
            "  inflating: DataSet/train/robot/images220.jpg  \n",
            "  inflating: DataSet/train/robot/images221.jpg  \n",
            "  inflating: DataSet/train/robot/images222.jpg  \n",
            "  inflating: DataSet/train/robot/images223.jpg  \n",
            "  inflating: DataSet/train/robot/images224.jpg  \n",
            "  inflating: DataSet/train/robot/images225.jpg  \n",
            "  inflating: DataSet/train/robot/images226.jpg  \n",
            "  inflating: DataSet/train/robot/images227.jpg  \n",
            "  inflating: DataSet/train/robot/images228.jpg  \n",
            "  inflating: DataSet/train/robot/images229.jpg  \n",
            "  inflating: DataSet/train/robot/images23.jpg  \n",
            "  inflating: DataSet/train/robot/images230.jpg  \n",
            "  inflating: DataSet/train/robot/images231.jpg  \n",
            "  inflating: DataSet/train/robot/images232.jpg  \n",
            "  inflating: DataSet/train/robot/images234.jpg  \n",
            "  inflating: DataSet/train/robot/images235.jpg  \n",
            "  inflating: DataSet/train/robot/images237.jpg  \n",
            "  inflating: DataSet/train/robot/images238.jpg  \n",
            "  inflating: DataSet/train/robot/images239.jpg  \n",
            "  inflating: DataSet/train/robot/images24.jpg  \n",
            "  inflating: DataSet/train/robot/images240.jpg  \n",
            "  inflating: DataSet/train/robot/images241.jpg  \n",
            "  inflating: DataSet/train/robot/images242.jpg  \n",
            "  inflating: DataSet/train/robot/images244.jpg  \n",
            "  inflating: DataSet/train/robot/images245.jpg  \n",
            "  inflating: DataSet/train/robot/images246.jpg  \n",
            "  inflating: DataSet/train/robot/images247.jpg  \n",
            "  inflating: DataSet/train/robot/images248.jpg  \n",
            "  inflating: DataSet/train/robot/images249.jpg  \n",
            "  inflating: DataSet/train/robot/images25.jpg  \n",
            "  inflating: DataSet/train/robot/images250.jpg  \n",
            "  inflating: DataSet/train/robot/images252.jpg  \n",
            "  inflating: DataSet/train/robot/images253.jpg  \n",
            "  inflating: DataSet/train/robot/images254.jpg  \n",
            "  inflating: DataSet/train/robot/images255.jpg  \n",
            "  inflating: DataSet/train/robot/images256.jpg  \n",
            "  inflating: DataSet/train/robot/images257.jpg  \n",
            " extracting: DataSet/train/robot/images258.jpg  \n",
            "  inflating: DataSet/train/robot/images259.jpg  \n",
            "  inflating: DataSet/train/robot/images26.jpg  \n",
            "  inflating: DataSet/train/robot/images260.jpg  \n",
            "  inflating: DataSet/train/robot/images263.jpg  \n",
            "  inflating: DataSet/train/robot/images265.jpg  \n",
            "  inflating: DataSet/train/robot/images266.jpg  \n",
            "  inflating: DataSet/train/robot/images267.jpg  \n",
            "  inflating: DataSet/train/robot/images268.jpg  \n",
            "  inflating: DataSet/train/robot/images269.jpg  \n",
            "  inflating: DataSet/train/robot/images27.jpg  \n",
            "  inflating: DataSet/train/robot/images271.jpg  \n",
            "  inflating: DataSet/train/robot/images272.jpg  \n",
            "  inflating: DataSet/train/robot/images273.jpg  \n",
            "  inflating: DataSet/train/robot/images276.jpg  \n",
            "  inflating: DataSet/train/robot/images277.jpg  \n",
            "  inflating: DataSet/train/robot/images278.jpg  \n",
            "  inflating: DataSet/train/robot/images279.jpg  \n",
            "  inflating: DataSet/train/robot/images28.jpg  \n",
            "  inflating: DataSet/train/robot/images280.jpg  \n",
            "  inflating: DataSet/train/robot/images281.jpg  \n",
            "  inflating: DataSet/train/robot/images282.jpg  \n",
            "  inflating: DataSet/train/robot/images283.jpg  \n",
            "  inflating: DataSet/train/robot/images284.jpg  \n",
            "  inflating: DataSet/train/robot/images285.jpg  \n",
            "  inflating: DataSet/train/robot/images288.jpg  \n",
            "  inflating: DataSet/train/robot/images29.jpg  \n",
            "  inflating: DataSet/train/robot/images290.jpg  \n",
            "  inflating: DataSet/train/robot/images292.jpg  \n",
            "  inflating: DataSet/train/robot/images293.jpg  \n",
            "  inflating: DataSet/train/robot/images294.jpg  \n",
            "  inflating: DataSet/train/robot/images295.jpg  \n",
            "  inflating: DataSet/train/robot/images296.jpg  \n",
            "  inflating: DataSet/train/robot/images297.jpg  \n",
            "  inflating: DataSet/train/robot/images298.jpg  \n",
            "  inflating: DataSet/train/robot/images299.jpg  \n",
            " extracting: DataSet/train/robot/images3.jpg  \n",
            "  inflating: DataSet/train/robot/images30.jpg  \n",
            "  inflating: DataSet/train/robot/images300.jpg  \n",
            "  inflating: DataSet/train/robot/images301.jpg  \n",
            "  inflating: DataSet/train/robot/images302.jpg  \n",
            "  inflating: DataSet/train/robot/images303.jpg  \n",
            "  inflating: DataSet/train/robot/images304.jpg  \n",
            "  inflating: DataSet/train/robot/images305.jpg  \n",
            "  inflating: DataSet/train/robot/images306.jpg  \n",
            "  inflating: DataSet/train/robot/images308.jpg  \n",
            "  inflating: DataSet/train/robot/images309.jpg  \n",
            "  inflating: DataSet/train/robot/images31.jpg  \n",
            "  inflating: DataSet/train/robot/images310.jpg  \n",
            "  inflating: DataSet/train/robot/images312.jpg  \n",
            " extracting: DataSet/train/robot/images313.jpg  \n",
            "  inflating: DataSet/train/robot/images314.jpg  \n",
            "  inflating: DataSet/train/robot/images315.jpg  \n",
            "  inflating: DataSet/train/robot/images316.jpg  \n",
            "  inflating: DataSet/train/robot/images317.jpg  \n",
            "  inflating: DataSet/train/robot/images318.jpg  \n",
            "  inflating: DataSet/train/robot/images319.jpg  \n",
            "  inflating: DataSet/train/robot/images320.jpg  \n",
            "  inflating: DataSet/train/robot/images321.jpg  \n",
            "  inflating: DataSet/train/robot/images322.jpg  \n",
            "  inflating: DataSet/train/robot/images324.jpg  \n",
            "  inflating: DataSet/train/robot/images34.jpg  \n",
            "  inflating: DataSet/train/robot/images35.jpg  \n",
            "  inflating: DataSet/train/robot/images353.jpg  \n",
            "  inflating: DataSet/train/robot/images358.jpg  \n",
            "  inflating: DataSet/train/robot/images38.jpg  \n",
            "  inflating: DataSet/train/robot/images39.jpg  \n",
            "  inflating: DataSet/train/robot/images4.jpg  \n",
            "  inflating: DataSet/train/robot/images40.jpg  \n",
            "  inflating: DataSet/train/robot/images41.jpg  \n",
            "  inflating: DataSet/train/robot/images42.jpg  \n",
            "  inflating: DataSet/train/robot/images43.jpg  \n",
            "  inflating: DataSet/train/robot/images44.jpg  \n",
            "  inflating: DataSet/train/robot/images45.jpg  \n",
            "  inflating: DataSet/train/robot/images46.jpg  \n",
            "  inflating: DataSet/train/robot/images47.jpg  \n",
            "  inflating: DataSet/train/robot/images48.jpg  \n",
            "  inflating: DataSet/train/robot/images49.jpg  \n",
            "  inflating: DataSet/train/robot/images50.jpg  \n",
            "  inflating: DataSet/train/robot/images51.jpg  \n",
            "  inflating: DataSet/train/robot/images52.jpg  \n",
            "  inflating: DataSet/train/robot/images53.jpg  \n",
            "  inflating: DataSet/train/robot/images54.jpg  \n",
            "  inflating: DataSet/train/robot/images55.jpg  \n",
            "  inflating: DataSet/train/robot/images56.jpg  \n",
            "  inflating: DataSet/train/robot/images57.jpg  \n",
            "  inflating: DataSet/train/robot/images58.jpg  \n",
            "  inflating: DataSet/train/robot/images59.jpg  \n",
            "  inflating: DataSet/train/robot/images6.jpg  \n",
            "  inflating: DataSet/train/robot/images60.jpg  \n",
            "  inflating: DataSet/train/robot/images61.jpg  \n",
            "  inflating: DataSet/train/robot/images62.jpg  \n",
            "  inflating: DataSet/train/robot/images63.jpg  \n",
            "  inflating: DataSet/train/robot/images64.jpg  \n",
            "  inflating: DataSet/train/robot/images65.jpg  \n",
            "  inflating: DataSet/train/robot/images66.jpg  \n",
            "  inflating: DataSet/train/robot/images67.jpg  \n",
            "  inflating: DataSet/train/robot/images68.jpg  \n",
            "  inflating: DataSet/train/robot/images69.jpg  \n",
            "  inflating: DataSet/train/robot/images7.jpg  \n",
            "  inflating: DataSet/train/robot/images70.jpg  \n",
            "  inflating: DataSet/train/robot/images71.jpg  \n",
            "  inflating: DataSet/train/robot/images72.jpg  \n",
            "  inflating: DataSet/train/robot/images73.jpg  \n",
            "  inflating: DataSet/train/robot/images74.jpg  \n",
            "  inflating: DataSet/train/robot/images75.jpg  \n",
            "  inflating: DataSet/train/robot/images76.jpg  \n",
            "  inflating: DataSet/train/robot/images77.jpg  \n",
            "  inflating: DataSet/train/robot/images78.jpg  \n",
            "  inflating: DataSet/train/robot/images79.jpg  \n",
            "  inflating: DataSet/train/robot/images8.jpg  \n",
            "  inflating: DataSet/train/robot/images80.jpg  \n",
            "  inflating: DataSet/train/robot/images81.jpg  \n",
            "  inflating: DataSet/train/robot/images82.jpg  \n",
            "  inflating: DataSet/train/robot/images83.jpg  \n",
            "  inflating: DataSet/train/robot/images84.jpg  \n",
            "  inflating: DataSet/train/robot/images86.jpg  \n",
            "  inflating: DataSet/train/robot/images87.jpg  \n",
            "  inflating: DataSet/train/robot/images88.jpg  \n",
            "  inflating: DataSet/train/robot/images89.jpg  \n",
            "  inflating: DataSet/train/robot/images9.jpg  \n",
            " extracting: DataSet/train/robot/images90.jpg  \n",
            "  inflating: DataSet/train/robot/images91.jpg  \n",
            "  inflating: DataSet/train/robot/images92.jpg  \n",
            "  inflating: DataSet/train/robot/images93.jpg  \n",
            "  inflating: DataSet/train/robot/images94.jpg  \n",
            "  inflating: DataSet/train/robot/images95.jpg  \n",
            "  inflating: DataSet/train/robot/images97.jpg  \n",
            "  inflating: DataSet/train/robot/images99.jpg  \n",
            "  inflating: DataSet/train/robot/sophia.jpg  \n",
            "  inflating: DataSet/train/robot/unnamed.jpg  \n",
            "   creating: DataSet/validate/\n",
            "   creating: DataSet/validate/human/\n",
            "  inflating: DataSet/validate/human/040mm.jpg  \n",
            "  inflating: DataSet/validate/human/0QuU4gY-YdMfhwwRa.png  \n",
            " extracting: DataSet/validate/human/10-tips-for-stunning-portrait-photography-9.jpg  \n",
            "  inflating: DataSet/validate/human/19-best-portrait-photography.jpg  \n",
            "  inflating: DataSet/validate/human/1jWx9suY2k3Ifq4B8A_vz9g.jpeg  \n",
            "  inflating: DataSet/validate/human/3-portrait-of-young-person-holding-campbell-addy.jpg  \n",
            "  inflating: DataSet/validate/human/a3ac1ed5abaedffd9947face7901e14c.jpg  \n",
            "  inflating: DataSet/validate/human/depositphotos_28451525-stock-photo-real-normal-person-portrait.jpg  \n",
            "  inflating: DataSet/validate/human/image12.jpeg  \n",
            "  inflating: DataSet/validate/human/image13.jpeg  \n",
            "  inflating: DataSet/validate/human/image14.jpeg  \n",
            "  inflating: DataSet/validate/human/image22.jpeg  \n",
            "  inflating: DataSet/validate/human/image4.jpeg  \n",
            "  inflating: DataSet/validate/human/images.jpg  \n",
            "  inflating: DataSet/validate/human/images103.jpg  \n",
            "  inflating: DataSet/validate/human/images11.jpg  \n",
            "  inflating: DataSet/validate/human/images117.jpg  \n",
            "  inflating: DataSet/validate/human/images12.jpg  \n",
            "  inflating: DataSet/validate/human/images127.jpg  \n",
            "  inflating: DataSet/validate/human/images128.jpg  \n",
            "  inflating: DataSet/validate/human/images129.jpg  \n",
            "  inflating: DataSet/validate/human/images13.jpg  \n",
            "  inflating: DataSet/validate/human/images137.jpg  \n",
            "  inflating: DataSet/validate/human/images138.jpg  \n",
            "  inflating: DataSet/validate/human/images139.jpg  \n",
            "  inflating: DataSet/validate/human/images159.jpg  \n",
            "  inflating: DataSet/validate/human/images160.jpg  \n",
            "  inflating: DataSet/validate/human/images161.jpg  \n",
            "  inflating: DataSet/validate/human/images172.jpg  \n",
            "  inflating: DataSet/validate/human/images173.jpg  \n",
            "  inflating: DataSet/validate/human/images174.jpg  \n",
            "  inflating: DataSet/validate/human/images183.jpg  \n",
            "  inflating: DataSet/validate/human/images194.jpg  \n",
            "  inflating: DataSet/validate/human/images195.jpg  \n",
            "  inflating: DataSet/validate/human/images203.jpg  \n",
            "  inflating: DataSet/validate/human/images204.jpg  \n",
            "  inflating: DataSet/validate/human/images205.jpg  \n",
            "  inflating: DataSet/validate/human/images21.jpg  \n",
            "  inflating: DataSet/validate/human/images213.jpg  \n",
            "  inflating: DataSet/validate/human/images214.jpg  \n",
            "  inflating: DataSet/validate/human/images227.jpg  \n",
            "  inflating: DataSet/validate/human/images23.jpg  \n",
            "  inflating: DataSet/validate/human/images238.jpg  \n",
            "  inflating: DataSet/validate/human/images239.jpg  \n",
            "  inflating: DataSet/validate/human/images240.jpg  \n",
            "  inflating: DataSet/validate/human/images248.jpg  \n",
            "  inflating: DataSet/validate/human/images249.jpg  \n",
            "  inflating: DataSet/validate/human/images250.jpg  \n",
            "  inflating: DataSet/validate/human/images273.jpg  \n",
            "  inflating: DataSet/validate/human/images274.jpg  \n",
            "  inflating: DataSet/validate/human/images275.jpg  \n",
            "  inflating: DataSet/validate/human/images284.jpg  \n",
            "  inflating: DataSet/validate/human/images286.jpg  \n",
            "  inflating: DataSet/validate/human/images287.jpg  \n",
            "  inflating: DataSet/validate/human/images296.jpg  \n",
            "  inflating: DataSet/validate/human/images307.jpg  \n",
            "  inflating: DataSet/validate/human/images308.jpg  \n",
            "  inflating: DataSet/validate/human/images317.jpg  \n",
            "  inflating: DataSet/validate/human/images318.jpg  \n",
            "  inflating: DataSet/validate/human/images319.jpg  \n",
            "  inflating: DataSet/validate/human/images354.jpg  \n",
            "  inflating: DataSet/validate/human/images355.jpg  \n",
            "  inflating: DataSet/validate/human/images366.jpg  \n",
            "  inflating: DataSet/validate/human/images377.jpg  \n",
            "  inflating: DataSet/validate/human/images379.jpg  \n",
            "  inflating: DataSet/validate/human/images380.jpg  \n",
            "  inflating: DataSet/validate/human/images388.jpg  \n",
            "  inflating: DataSet/validate/human/images389.jpg  \n",
            "  inflating: DataSet/validate/human/images390.jpg  \n",
            "  inflating: DataSet/validate/human/images41.jpg  \n",
            "  inflating: DataSet/validate/human/images44.jpg  \n",
            "  inflating: DataSet/validate/human/images45.jpg  \n",
            "  inflating: DataSet/validate/human/images53.jpg  \n",
            "  inflating: DataSet/validate/human/images55.jpg  \n",
            "  inflating: DataSet/validate/human/images56.jpg  \n",
            "  inflating: DataSet/validate/human/images65.jpg  \n",
            "  inflating: DataSet/validate/human/images80.jpg  \n",
            "  inflating: DataSet/validate/human/images89.jpg  \n",
            "  inflating: DataSet/validate/human/images90.jpg  \n",
            "  inflating: DataSet/validate/human/photo-1500648767791-00dcc994a43e.jfif  \n",
            "   creating: DataSet/validate/robot/\n",
            "  inflating: DataSet/validate/robot/14nyrobotdog-mediumSquareAt3X.jpg  \n",
            " extracting: DataSet/validate/robot/20200410-drspot-v1-front-354547a43aaa5ff219fff0a5297c0c7fad5c398f.jpg  \n",
            "  inflating: DataSet/validate/robot/2021-05-08T000000Z_500786537_MT1SIPA000WQ0J6L_RTRMADP_3_SIPA-USA.jpg  \n",
            "  inflating: DataSet/validate/robot/21-april_pepper-the-robot.jpg  \n",
            "  inflating: DataSet/validate/robot/23908.jpeg  \n",
            "  inflating: DataSet/validate/robot/29robot-slide-ZXA1-articleLarge.jpg  \n",
            "  inflating: DataSet/validate/robot/3-robot.jpg  \n",
            "  inflating: DataSet/validate/robot/400x225_g9g6r5.jpg  \n",
            "  inflating: DataSet/validate/robot/4C4090D8-9116-4E89-80CB8EFB94BACDC1_source.jpg  \n",
            "  inflating: DataSet/validate/robot/51b67024-4b07-44f2-b327-b39c604eeee4.jpg  \n",
            "  inflating: DataSet/validate/robot/53075489-10414935-image-a-4_1642521035046.jpg  \n",
            "  inflating: DataSet/validate/robot/5a7da23d47784-26062728103_6a4e27f8a5_b-kRY-U1101675981315ccG-1024x576@LaStampa-it_.jfif  \n",
            "  inflating: DataSet/validate/robot/5dec4ff8-6838-4adc-8f27-8d48e06329d1.jpg  \n",
            "  inflating: DataSet/validate/robot/5L8130936_Tobbie-the-robot_x.jpg  \n",
            "  inflating: DataSet/validate/robot/aila-thumb@2x.jpg  \n",
            "  inflating: DataSet/validate/robot/ameca-robot.png  \n",
            "  inflating: DataSet/validate/robot/best-movie-robots-k2so-inline.jpg  \n",
            "  inflating: DataSet/validate/robot/download.jfif  \n",
            "  inflating: DataSet/validate/robot/FvEXe4Lqv4VpPn42AnAqwY-320-80.jpg  \n",
            "  inflating: DataSet/validate/robot/how-can-we-bond-with-robots-331863-1280x720.jpg  \n",
            "  inflating: DataSet/validate/robot/image23.jpeg  \n",
            "  inflating: DataSet/validate/robot/images.jfif  \n",
            "  inflating: DataSet/validate/robot/images100.jpg  \n",
            "  inflating: DataSet/validate/robot/images101.jpg  \n",
            "  inflating: DataSet/validate/robot/images103.jpg  \n",
            "  inflating: DataSet/validate/robot/images107.jpg  \n",
            "  inflating: DataSet/validate/robot/images109.jpg  \n",
            "  inflating: DataSet/validate/robot/images121.jpg  \n",
            "  inflating: DataSet/validate/robot/images134.jpg  \n",
            "  inflating: DataSet/validate/robot/images136.jpg  \n",
            "  inflating: DataSet/validate/robot/images155.jpg  \n",
            "  inflating: DataSet/validate/robot/images161.jpg  \n",
            "  inflating: DataSet/validate/robot/images164.jpg  \n",
            "  inflating: DataSet/validate/robot/images18.jpg  \n",
            "  inflating: DataSet/validate/robot/images185.jpg  \n",
            "  inflating: DataSet/validate/robot/images188.jpg  \n",
            "  inflating: DataSet/validate/robot/images192.jpg  \n",
            "  inflating: DataSet/validate/robot/images195.jpg  \n",
            "  inflating: DataSet/validate/robot/images214.jpg  \n",
            "  inflating: DataSet/validate/robot/images233.jpg  \n",
            "  inflating: DataSet/validate/robot/images236.jpg  \n",
            "  inflating: DataSet/validate/robot/images243.jpg  \n",
            "  inflating: DataSet/validate/robot/images262.jpg  \n",
            "  inflating: DataSet/validate/robot/images270.jpg  \n",
            "  inflating: DataSet/validate/robot/images274.jpg  \n",
            "  inflating: DataSet/validate/robot/images275.jpg  \n",
            "  inflating: DataSet/validate/robot/images286.jpg  \n",
            "  inflating: DataSet/validate/robot/images307.jpg  \n",
            "  inflating: DataSet/validate/robot/images32.jpg  \n",
            "  inflating: DataSet/validate/robot/images325.jpg  \n",
            "  inflating: DataSet/validate/robot/images326.jpg  \n",
            "  inflating: DataSet/validate/robot/images327.jpg  \n",
            "  inflating: DataSet/validate/robot/images328.jpg  \n",
            "  inflating: DataSet/validate/robot/images329.jpg  \n",
            "  inflating: DataSet/validate/robot/images33.jpg  \n",
            "  inflating: DataSet/validate/robot/images330.jpg  \n",
            "  inflating: DataSet/validate/robot/images331.jpg  \n",
            "  inflating: DataSet/validate/robot/images332.jpg  \n",
            "  inflating: DataSet/validate/robot/images334.jpg  \n",
            "  inflating: DataSet/validate/robot/images344.jpg  \n",
            "  inflating: DataSet/validate/robot/images355.jpg  \n",
            "  inflating: DataSet/validate/robot/images36.jpg  \n",
            "  inflating: DataSet/validate/robot/images374.jpg  \n",
            "  inflating: DataSet/validate/robot/images383.jpg  \n",
            "  inflating: DataSet/validate/robot/images5.jpg  \n",
            "  inflating: DataSet/validate/robot/images85.jpg  \n",
            "  inflating: DataSet/validate/robot/images96.jpg  \n",
            "  inflating: DataSet/validate/robot/images98.jpg  \n",
            "  inflating: DataSet/validate/robot/jrckmcyacezbwqgf_1638243005.jpeg  \n",
            "  inflating: DataSet/validate/robot/nagoya-japan-july-10-2016-toyota-robots_shutterstock-editorial-use-only_511001698-1068x601.jpg  \n",
            "  inflating: DataSet/validate/robot/nao.png  \n",
            "  inflating: DataSet/validate/robot/Quori_socially_interactive_robot_platform_IMG_20200219_165323219_02.jpg  \n",
            "  inflating: DataSet/validate/robot/robina-teaser.jpg  \n",
            "  inflating: DataSet/validate/robot/Robotics-1.jpg  \n",
            "  inflating: DataSet/validate/robot/Robots-Square.jpg  \n",
            " extracting: DataSet/validate/robot/screen-shot-2016-02-24-at-1-23-12-pm.png  \n",
            "  inflating: DataSet/validate/robot/Sophia-Headshot.jpg  \n",
            "  inflating: DataSet/validate/robot/_114507887_tele.man.robot.jpg  \n",
            "  inflating: DataSet/validate/robot/_114507889_tele.robot.looks.hand.jpg  \n",
            "  inflating: DataSet/validate/robot/_122617502_ameca3.jpg  \n"
          ]
        }
      ]
    },
    {
      "cell_type": "code",
      "source": [
        "from sklearn import metrics\n",
        "import tensorflow as tf\n",
        "from tensorflow.keras.models import Sequential\n",
        "from tensorflow.keras.layers import Dense, Conv2D, Flatten, MaxPooling2D, BatchNormalization, Dropout\n",
        "from keras.callbacks import ModelCheckpoint\n",
        "import numpy as np\n",
        "from keras.regularizers import l2\n",
        "import matplotlib.pyplot as plt\n",
        "from tensorflow.keras import layers"
      ],
      "metadata": {
        "id": "ae6W3BLzozE9"
      },
      "execution_count": 3,
      "outputs": []
    },
    {
      "cell_type": "code",
      "source": [
        "from tensorflow.keras.preprocessing.image import ImageDataGenerator\n",
        "my_generator = ImageDataGenerator(rescale=1./255)"
      ],
      "metadata": {
        "id": "oJZdmwABphcU"
      },
      "execution_count": 4,
      "outputs": []
    },
    {
      "cell_type": "code",
      "source": [
        "train_generator = my_generator.flow_from_directory( './DataSet/train/', target_size=(150, 150), batch_size=4, class_mode='binary')\n",
        "valid_generator = my_generator.flow_from_directory( './DataSet/validate/', target_size=(150, 150), batch_size=4, class_mode='binary')\n",
        "test_generator = my_generator.flow_from_directory('./DataSet/test/', target_size=(150, 150), batch_size=4, class_mode='binary')"
      ],
      "metadata": {
        "colab": {
          "base_uri": "https://localhost:8080/"
        },
        "id": "NYNWHZsjp7p7",
        "outputId": "7c53e496-7a26-4f55-f998-bcad564f1a24"
      },
      "execution_count": 5,
      "outputs": [
        {
          "output_type": "stream",
          "name": "stdout",
          "text": [
            "Found 738 images belonging to 2 classes.\n",
            "Found 156 images belonging to 2 classes.\n",
            "Found 144 images belonging to 2 classes.\n"
          ]
        }
      ]
    },
    {
      "cell_type": "code",
      "source": [
        "EPOCHS = 100\n",
        "checkpoint_filepath = 'best.h5'\n",
        "checkpoint = tf.keras.callbacks.ModelCheckpoint(filepath=checkpoint_filepath,save_weights_only=True,monitor='val_loss', verbose=1,mode='min',save_best_only=True)\n",
        "earlystopping = tf.keras.callbacks.EarlyStopping(monitor='val_loss', verbose=1, patience=10)\n",
        "model = Sequential()\n",
        "model.add( Conv2D( 32, (2, 2 ), activation = 'relu', input_shape = (150, 150, 3) ) )\n",
        "model.add( BatchNormalization())\n",
        "model.add( MaxPooling2D(4 ,4) )\n",
        "model.add( Conv2D( 16, ( 3, 3 ), activation = 'relu' ) )\n",
        "model.add( MaxPooling2D(4, 4) )\n",
        "model.add( Conv2D( 8, ( 5, 5 ), activation = 'relu',padding=\"same\"  ) )\n",
        "model.add( Flatten() )\n",
        "model.add( Dense( 10, activation = 'relu' ) )\n",
        "model.add( Dense( 1, activation = 'sigmoid' ) )\n",
        "model.summary()"
      ],
      "metadata": {
        "colab": {
          "base_uri": "https://localhost:8080/"
        },
        "id": "Nvc75ldlqEfb",
        "outputId": "3424e1e9-c635-4ca6-9274-cc74fda3aad3"
      },
      "execution_count": 6,
      "outputs": [
        {
          "output_type": "stream",
          "name": "stdout",
          "text": [
            "Model: \"sequential\"\n",
            "_________________________________________________________________\n",
            " Layer (type)                Output Shape              Param #   \n",
            "=================================================================\n",
            " conv2d (Conv2D)             (None, 149, 149, 32)      416       \n",
            "                                                                 \n",
            " batch_normalization (BatchN  (None, 149, 149, 32)     128       \n",
            " ormalization)                                                   \n",
            "                                                                 \n",
            " max_pooling2d (MaxPooling2D  (None, 37, 37, 32)       0         \n",
            " )                                                               \n",
            "                                                                 \n",
            " conv2d_1 (Conv2D)           (None, 35, 35, 16)        4624      \n",
            "                                                                 \n",
            " max_pooling2d_1 (MaxPooling  (None, 8, 8, 16)         0         \n",
            " 2D)                                                             \n",
            "                                                                 \n",
            " conv2d_2 (Conv2D)           (None, 8, 8, 8)           3208      \n",
            "                                                                 \n",
            " flatten (Flatten)           (None, 512)               0         \n",
            "                                                                 \n",
            " dense (Dense)               (None, 10)                5130      \n",
            "                                                                 \n",
            " dense_1 (Dense)             (None, 1)                 11        \n",
            "                                                                 \n",
            "=================================================================\n",
            "Total params: 13,517\n",
            "Trainable params: 13,453\n",
            "Non-trainable params: 64\n",
            "_________________________________________________________________\n"
          ]
        }
      ]
    },
    {
      "cell_type": "code",
      "source": [
        "model.compile( optimizer = 'rmsprop', loss = 'binary_crossentropy', metrics = [ 'accuracy' ] )\n",
        "history = model.fit( train_generator, validation_data = valid_generator, epochs = 100, batch_size = 64, callbacks = earlystopping)"
      ],
      "metadata": {
        "colab": {
          "base_uri": "https://localhost:8080/"
        },
        "id": "0yb6A7tJqCJR",
        "outputId": "892e29ad-5051-4e07-f5ed-0cc85c739a43"
      },
      "execution_count": 7,
      "outputs": [
        {
          "output_type": "stream",
          "name": "stdout",
          "text": [
            "Epoch 1/100\n",
            "173/185 [===========================>..] - ETA: 1s - loss: 0.5373 - accuracy: 0.7159"
          ]
        },
        {
          "output_type": "stream",
          "name": "stderr",
          "text": [
            "/usr/local/lib/python3.7/dist-packages/PIL/Image.py:960: UserWarning: Palette images with Transparency expressed in bytes should be converted to RGBA images\n",
            "  \"Palette images with Transparency expressed in bytes should be \"\n"
          ]
        },
        {
          "output_type": "stream",
          "name": "stdout",
          "text": [
            "185/185 [==============================] - 26s 136ms/step - loss: 0.5290 - accuracy: 0.7222 - val_loss: 0.6651 - val_accuracy: 0.5128\n",
            "Epoch 2/100\n",
            "185/185 [==============================] - 25s 136ms/step - loss: 0.3171 - accuracy: 0.8794 - val_loss: 0.5881 - val_accuracy: 0.6538\n",
            "Epoch 3/100\n",
            "185/185 [==============================] - 25s 136ms/step - loss: 0.2417 - accuracy: 0.9092 - val_loss: 1.0570 - val_accuracy: 0.6346\n",
            "Epoch 4/100\n",
            "185/185 [==============================] - 25s 136ms/step - loss: 0.1955 - accuracy: 0.9255 - val_loss: 0.2651 - val_accuracy: 0.8846\n",
            "Epoch 5/100\n",
            "185/185 [==============================] - 25s 136ms/step - loss: 0.1636 - accuracy: 0.9377 - val_loss: 0.6599 - val_accuracy: 0.7821\n",
            "Epoch 6/100\n",
            "185/185 [==============================] - 25s 136ms/step - loss: 0.1396 - accuracy: 0.9512 - val_loss: 0.3198 - val_accuracy: 0.8782\n",
            "Epoch 7/100\n",
            "185/185 [==============================] - 25s 135ms/step - loss: 0.0905 - accuracy: 0.9607 - val_loss: 0.2857 - val_accuracy: 0.8974\n",
            "Epoch 8/100\n",
            "185/185 [==============================] - 25s 135ms/step - loss: 0.0912 - accuracy: 0.9729 - val_loss: 0.4087 - val_accuracy: 0.8782\n",
            "Epoch 9/100\n",
            "185/185 [==============================] - 25s 136ms/step - loss: 0.0916 - accuracy: 0.9756 - val_loss: 0.3540 - val_accuracy: 0.9038\n",
            "Epoch 10/100\n",
            "185/185 [==============================] - 25s 138ms/step - loss: 0.0646 - accuracy: 0.9743 - val_loss: 0.4742 - val_accuracy: 0.8590\n",
            "Epoch 11/100\n",
            "185/185 [==============================] - 25s 135ms/step - loss: 0.0692 - accuracy: 0.9810 - val_loss: 0.3930 - val_accuracy: 0.8846\n",
            "Epoch 12/100\n",
            "185/185 [==============================] - 25s 136ms/step - loss: 0.0375 - accuracy: 0.9878 - val_loss: 0.5662 - val_accuracy: 0.8910\n",
            "Epoch 13/100\n",
            "185/185 [==============================] - 25s 135ms/step - loss: 0.0500 - accuracy: 0.9905 - val_loss: 0.3333 - val_accuracy: 0.9231\n",
            "Epoch 14/100\n",
            "185/185 [==============================] - 25s 136ms/step - loss: 0.0324 - accuracy: 0.9878 - val_loss: 0.5218 - val_accuracy: 0.8846\n",
            "Epoch 14: early stopping\n"
          ]
        }
      ]
    },
    {
      "cell_type": "code",
      "source": [
        "model.evaluate(test_generator)"
      ],
      "metadata": {
        "colab": {
          "base_uri": "https://localhost:8080/"
        },
        "id": "UCR-PSGqqpU7",
        "outputId": "4fc5a4b5-a016-41ba-d7bd-6dfe4b2ad895"
      },
      "execution_count": 8,
      "outputs": [
        {
          "output_type": "stream",
          "name": "stdout",
          "text": [
            "36/36 [==============================] - 4s 99ms/step - loss: 0.7859 - accuracy: 0.8750\n"
          ]
        },
        {
          "output_type": "stream",
          "name": "stderr",
          "text": [
            "/usr/local/lib/python3.7/dist-packages/PIL/Image.py:960: UserWarning: Palette images with Transparency expressed in bytes should be converted to RGBA images\n",
            "  \"Palette images with Transparency expressed in bytes should be \"\n"
          ]
        },
        {
          "output_type": "execute_result",
          "data": {
            "text/plain": [
              "[0.7858773469924927, 0.875]"
            ]
          },
          "metadata": {},
          "execution_count": 8
        }
      ]
    },
    {
      "cell_type": "code",
      "source": [
        "print(history.history.keys())\n",
        "keyList = list(history.history.keys())\n",
        "plt.plot(history.history[keyList[1]],label = \"Training accuracy\" )\n",
        "plt.plot(history.history[keyList[3]], label = \"Validation accuracy\" )\n",
        "plt.title(\"Model Learning Curve using Early Stopping\\n and Batch Normalization\")\n",
        "plt.xlabel(\"Epochs\")\n",
        "plt.ylabel(\"Accuracy\")"
      ],
      "metadata": {
        "colab": {
          "base_uri": "https://localhost:8080/",
          "height": 345
        },
        "id": "2AGNDkCwqp7b",
        "outputId": "b3df5b01-3f3f-4758-bc3a-b13e947fae16"
      },
      "execution_count": 9,
      "outputs": [
        {
          "output_type": "stream",
          "name": "stdout",
          "text": [
            "dict_keys(['loss', 'accuracy', 'val_loss', 'val_accuracy'])\n"
          ]
        },
        {
          "output_type": "execute_result",
          "data": {
            "text/plain": [
              "Text(0, 0.5, 'Accuracy')"
            ]
          },
          "metadata": {},
          "execution_count": 9
        },
        {
          "output_type": "display_data",
          "data": {
            "text/plain": [
              "<Figure size 432x288 with 1 Axes>"
            ],
            "image/png": "[encoded data removed]"
          },
          "metadata": {
            "needs_background": "light"
          }
        }
      ]
    },
    {
      "cell_type": "code",
      "source": [
        "model1 = Sequential()\n",
        "model1.add( Conv2D( 32, (2, 2 ), activation = 'relu', input_shape = (150, 150, 3) ) )\n",
        "model1.add( MaxPooling2D(4 ,4) )\n",
        "model1.add( Conv2D( 16, ( 3, 3 ), activation = 'relu' ) )\n",
        "model1.add( MaxPooling2D(4, 4) )\n",
        "model1.add( Conv2D( 8, ( 5, 5 ), activation = 'relu',padding=\"same\"  ) )\n",
        "model1.add( Flatten() )\n",
        "model1.add( Dense( 10, activation = 'relu' ) )\n",
        "model1.add(Dropout(0.5))\n",
        "model1.add( Dense( 1, activation = 'sigmoid' ) )\n",
        "model1.summary()"
      ],
      "metadata": {
        "colab": {
          "base_uri": "https://localhost:8080/"
        },
        "id": "rrF4zOzX4jaO",
        "outputId": "7e93062a-d051-4411-9b8b-46482284b1ab"
      },
      "execution_count": 10,
      "outputs": [
        {
          "output_type": "stream",
          "name": "stdout",
          "text": [
            "Model: \"sequential_1\"\n",
            "_________________________________________________________________\n",
            " Layer (type)                Output Shape              Param #   \n",
            "=================================================================\n",
            " conv2d_3 (Conv2D)           (None, 149, 149, 32)      416       \n",
            "                                                                 \n",
            " max_pooling2d_2 (MaxPooling  (None, 37, 37, 32)       0         \n",
            " 2D)                                                             \n",
            "                                                                 \n",
            " conv2d_4 (Conv2D)           (None, 35, 35, 16)        4624      \n",
            "                                                                 \n",
            " max_pooling2d_3 (MaxPooling  (None, 8, 8, 16)         0         \n",
            " 2D)                                                             \n",
            "                                                                 \n",
            " conv2d_5 (Conv2D)           (None, 8, 8, 8)           3208      \n",
            "                                                                 \n",
            " flatten_1 (Flatten)         (None, 512)               0         \n",
            "                                                                 \n",
            " dense_2 (Dense)             (None, 10)                5130      \n",
            "                                                                 \n",
            " dropout (Dropout)           (None, 10)                0         \n",
            "                                                                 \n",
            " dense_3 (Dense)             (None, 1)                 11        \n",
            "                                                                 \n",
            "=================================================================\n",
            "Total params: 13,389\n",
            "Trainable params: 13,389\n",
            "Non-trainable params: 0\n",
            "_________________________________________________________________\n"
          ]
        }
      ]
    },
    {
      "cell_type": "code",
      "source": [
        "model1.compile( optimizer = 'rmsprop', loss = 'binary_crossentropy', metrics = [ 'accuracy' ] )\n",
        "history1 = model1.fit( train_generator, validation_data = valid_generator, epochs = 100, batch_size = 64, callbacks=earlystopping)"
      ],
      "metadata": {
        "colab": {
          "base_uri": "https://localhost:8080/"
        },
        "id": "xR40RH9e4la3",
        "outputId": "60b7bcc6-ac87-4250-f9fc-bd95f229190d"
      },
      "execution_count": 11,
      "outputs": [
        {
          "output_type": "stream",
          "name": "stdout",
          "text": [
            "Epoch 1/100\n",
            " 17/185 [=>............................] - ETA: 22s - loss: 0.7057 - accuracy: 0.4706"
          ]
        },
        {
          "output_type": "stream",
          "name": "stderr",
          "text": [
            "/usr/local/lib/python3.7/dist-packages/PIL/Image.py:960: UserWarning: Palette images with Transparency expressed in bytes should be converted to RGBA images\n",
            "  \"Palette images with Transparency expressed in bytes should be \"\n"
          ]
        },
        {
          "output_type": "stream",
          "name": "stdout",
          "text": [
            "185/185 [==============================] - 21s 107ms/step - loss: 0.6877 - accuracy: 0.5379 - val_loss: 0.7421 - val_accuracy: 0.4936\n",
            "Epoch 2/100\n",
            "185/185 [==============================] - 20s 107ms/step - loss: 0.6104 - accuracy: 0.6626 - val_loss: 0.5582 - val_accuracy: 0.7244\n",
            "Epoch 3/100\n",
            "185/185 [==============================] - 20s 106ms/step - loss: 0.4784 - accuracy: 0.7669 - val_loss: 0.3905 - val_accuracy: 0.8205\n",
            "Epoch 4/100\n",
            "185/185 [==============================] - 20s 106ms/step - loss: 0.4060 - accuracy: 0.8211 - val_loss: 0.3413 - val_accuracy: 0.8718\n",
            "Epoch 5/100\n",
            "185/185 [==============================] - 20s 106ms/step - loss: 0.3461 - accuracy: 0.8537 - val_loss: 0.3558 - val_accuracy: 0.8462\n",
            "Epoch 6/100\n",
            "185/185 [==============================] - 20s 107ms/step - loss: 0.3294 - accuracy: 0.8875 - val_loss: 0.3342 - val_accuracy: 0.8590\n",
            "Epoch 7/100\n",
            "185/185 [==============================] - 20s 106ms/step - loss: 0.3172 - accuracy: 0.8889 - val_loss: 0.3468 - val_accuracy: 0.8462\n",
            "Epoch 8/100\n",
            "185/185 [==============================] - 20s 107ms/step - loss: 0.2745 - accuracy: 0.8970 - val_loss: 0.4011 - val_accuracy: 0.8397\n",
            "Epoch 9/100\n",
            "185/185 [==============================] - 20s 107ms/step - loss: 0.2931 - accuracy: 0.8862 - val_loss: 0.3552 - val_accuracy: 0.8974\n",
            "Epoch 10/100\n",
            "185/185 [==============================] - 20s 106ms/step - loss: 0.2584 - accuracy: 0.9146 - val_loss: 0.3789 - val_accuracy: 0.8846\n",
            "Epoch 11/100\n",
            "185/185 [==============================] - 20s 106ms/step - loss: 0.2568 - accuracy: 0.9106 - val_loss: 0.5619 - val_accuracy: 0.8333\n",
            "Epoch 12/100\n",
            "185/185 [==============================] - 20s 106ms/step - loss: 0.2150 - accuracy: 0.9309 - val_loss: 0.3140 - val_accuracy: 0.9103\n",
            "Epoch 13/100\n",
            "185/185 [==============================] - 20s 106ms/step - loss: 0.2404 - accuracy: 0.9173 - val_loss: 0.3905 - val_accuracy: 0.8910\n",
            "Epoch 14/100\n",
            "185/185 [==============================] - 19s 104ms/step - loss: 0.2143 - accuracy: 0.9295 - val_loss: 0.3707 - val_accuracy: 0.8654\n",
            "Epoch 15/100\n",
            "185/185 [==============================] - 19s 105ms/step - loss: 0.1939 - accuracy: 0.9322 - val_loss: 0.3330 - val_accuracy: 0.9167\n",
            "Epoch 16/100\n",
            "185/185 [==============================] - 20s 107ms/step - loss: 0.1634 - accuracy: 0.9404 - val_loss: 0.4156 - val_accuracy: 0.8718\n",
            "Epoch 17/100\n",
            "185/185 [==============================] - 20s 106ms/step - loss: 0.1820 - accuracy: 0.9404 - val_loss: 0.3603 - val_accuracy: 0.8974\n",
            "Epoch 18/100\n",
            "185/185 [==============================] - 20s 106ms/step - loss: 0.1794 - accuracy: 0.9404 - val_loss: 0.3499 - val_accuracy: 0.9103\n",
            "Epoch 19/100\n",
            "185/185 [==============================] - 20s 107ms/step - loss: 0.1714 - accuracy: 0.9431 - val_loss: 0.3248 - val_accuracy: 0.8910\n",
            "Epoch 20/100\n",
            "185/185 [==============================] - 20s 106ms/step - loss: 0.1327 - accuracy: 0.9553 - val_loss: 0.3844 - val_accuracy: 0.9103\n",
            "Epoch 21/100\n",
            "185/185 [==============================] - 20s 107ms/step - loss: 0.1490 - accuracy: 0.9566 - val_loss: 0.5239 - val_accuracy: 0.8462\n",
            "Epoch 22/100\n",
            "185/185 [==============================] - 20s 106ms/step - loss: 0.1442 - accuracy: 0.9566 - val_loss: 0.4338 - val_accuracy: 0.8718\n",
            "Epoch 22: early stopping\n"
          ]
        }
      ]
    },
    {
      "cell_type": "code",
      "source": [
        "model1.evaluate(test_generator)"
      ],
      "metadata": {
        "colab": {
          "base_uri": "https://localhost:8080/"
        },
        "id": "zQRLfBSd4qwq",
        "outputId": "9c67354b-07a3-4414-fcf0-54cdce5c322b"
      },
      "execution_count": 12,
      "outputs": [
        {
          "output_type": "stream",
          "name": "stdout",
          "text": [
            "33/36 [==========================>...] - ETA: 0s - loss: 0.4325 - accuracy: 0.8712"
          ]
        },
        {
          "output_type": "stream",
          "name": "stderr",
          "text": [
            "/usr/local/lib/python3.7/dist-packages/PIL/Image.py:960: UserWarning: Palette images with Transparency expressed in bytes should be converted to RGBA images\n",
            "  \"Palette images with Transparency expressed in bytes should be \"\n"
          ]
        },
        {
          "output_type": "stream",
          "name": "stdout",
          "text": [
            "36/36 [==============================] - 3s 96ms/step - loss: 0.4170 - accuracy: 0.8681\n"
          ]
        },
        {
          "output_type": "execute_result",
          "data": {
            "text/plain": [
              "[0.41700777411460876, 0.8680555820465088]"
            ]
          },
          "metadata": {},
          "execution_count": 12
        }
      ]
    },
    {
      "cell_type": "code",
      "source": [
        "print(history1.history.keys())\n",
        "keyList = list(history1.history.keys())\n",
        "plt.plot(history1.history[keyList[1]],label = \"Training accuracy\" )\n",
        "plt.plot(history1.history[keyList[3]], label = \"Validation accuracy\" )\n",
        "plt.title(\"Model Learning Curve using Early Stopping\\n and Dropout\")\n",
        "plt.xlabel(\"Epochs\")\n",
        "plt.ylabel(\"Accuracy\")"
      ],
      "metadata": {
        "colab": {
          "base_uri": "https://localhost:8080/",
          "height": 345
        },
        "id": "Xp4wb0ZK4shE",
        "outputId": "bbe369c8-95b6-4a0b-94a1-92c6c57ae7d9"
      },
      "execution_count": 13,
      "outputs": [
        {
          "output_type": "stream",
          "name": "stdout",
          "text": [
            "dict_keys(['loss', 'accuracy', 'val_loss', 'val_accuracy'])\n"
          ]
        },
        {
          "output_type": "execute_result",
          "data": {
            "text/plain": [
              "Text(0, 0.5, 'Accuracy')"
            ]
          },
          "metadata": {},
          "execution_count": 13
        },
        {
          "output_type": "display_data",
          "data": {
            "text/plain": [
              "<Figure size 432x288 with 1 Axes>"
            ],
            "image/png": "[encoded data removed]"
          },
          "metadata": {
            "needs_background": "light"
          }
        }
      ]
    },
    {
      "cell_type": "code",
      "source": [
        "model2 = Sequential()\n",
        "model2.add( Conv2D( 32, (2, 2 ), activation = 'relu', input_shape = (150, 150, 3) ) )\n",
        "model2.add( MaxPooling2D(4 ,4) )\n",
        "model2.add( Conv2D( 16, ( 3, 3 ), activation = 'relu' ) )\n",
        "model2.add( MaxPooling2D(4, 4) )\n",
        "model2.add( Conv2D( 8, ( 5, 5 ), activation = 'relu',padding=\"same\" , kernel_regularizer=l2(0.001), bias_regularizer=l2(0.001) ) )\n",
        "model2.add( Flatten() )\n",
        "model2.add( Dense( 10, activation = 'relu' ) )\n",
        "model2.add( Dense( 1, activation = 'sigmoid' ) )\n",
        "model2.summary()"
      ],
      "metadata": {
        "colab": {
          "base_uri": "https://localhost:8080/"
        },
        "id": "TBO-XXm_FpTJ",
        "outputId": "797a2484-53ad-4f88-96a2-16e881361ffa"
      },
      "execution_count": 14,
      "outputs": [
        {
          "output_type": "stream",
          "name": "stdout",
          "text": [
            "Model: \"sequential_2\"\n",
            "_________________________________________________________________\n",
            " Layer (type)                Output Shape              Param #   \n",
            "=================================================================\n",
            " conv2d_6 (Conv2D)           (None, 149, 149, 32)      416       \n",
            "                                                                 \n",
            " max_pooling2d_4 (MaxPooling  (None, 37, 37, 32)       0         \n",
            " 2D)                                                             \n",
            "                                                                 \n",
            " conv2d_7 (Conv2D)           (None, 35, 35, 16)        4624      \n",
            "                                                                 \n",
            " max_pooling2d_5 (MaxPooling  (None, 8, 8, 16)         0         \n",
            " 2D)                                                             \n",
            "                                                                 \n",
            " conv2d_8 (Conv2D)           (None, 8, 8, 8)           3208      \n",
            "                                                                 \n",
            " flatten_2 (Flatten)         (None, 512)               0         \n",
            "                                                                 \n",
            " dense_4 (Dense)             (None, 10)                5130      \n",
            "                                                                 \n",
            " dense_5 (Dense)             (None, 1)                 11        \n",
            "                                                                 \n",
            "=================================================================\n",
            "Total params: 13,389\n",
            "Trainable params: 13,389\n",
            "Non-trainable params: 0\n",
            "_________________________________________________________________\n"
          ]
        }
      ]
    },
    {
      "cell_type": "code",
      "source": [
        "model2.compile( optimizer = 'rmsprop', loss = 'binary_crossentropy', metrics = [ 'accuracy' ] )\n",
        "history2 = model2.fit( train_generator, validation_data = valid_generator, epochs = 100, batch_size = 64, callbacks=earlystopping)"
      ],
      "metadata": {
        "colab": {
          "base_uri": "https://localhost:8080/"
        },
        "id": "GBripgOwFp2p",
        "outputId": "55dcee6c-f8be-446a-92d5-6dab4999268c"
      },
      "execution_count": 15,
      "outputs": [
        {
          "output_type": "stream",
          "name": "stdout",
          "text": [
            "Epoch 1/100\n",
            " 14/185 [=>............................] - ETA: 20s - loss: 0.7668 - accuracy: 0.5357"
          ]
        },
        {
          "output_type": "stream",
          "name": "stderr",
          "text": [
            "/usr/local/lib/python3.7/dist-packages/PIL/Image.py:960: UserWarning: Palette images with Transparency expressed in bytes should be converted to RGBA images\n",
            "  \"Palette images with Transparency expressed in bytes should be \"\n"
          ]
        },
        {
          "output_type": "stream",
          "name": "stdout",
          "text": [
            "185/185 [==============================] - 21s 109ms/step - loss: 0.6437 - accuracy: 0.6301 - val_loss: 0.5706 - val_accuracy: 0.6795\n",
            "Epoch 2/100\n",
            "185/185 [==============================] - 20s 110ms/step - loss: 0.4776 - accuracy: 0.7981 - val_loss: 0.3425 - val_accuracy: 0.8526\n",
            "Epoch 3/100\n",
            "185/185 [==============================] - 20s 110ms/step - loss: 0.3787 - accuracy: 0.8442 - val_loss: 0.3058 - val_accuracy: 0.8846\n",
            "Epoch 4/100\n",
            "185/185 [==============================] - 20s 110ms/step - loss: 0.3340 - accuracy: 0.8604 - val_loss: 0.3052 - val_accuracy: 0.8782\n",
            "Epoch 5/100\n",
            "185/185 [==============================] - 20s 108ms/step - loss: 0.2899 - accuracy: 0.8889 - val_loss: 0.3789 - val_accuracy: 0.8397\n",
            "Epoch 6/100\n",
            "185/185 [==============================] - 20s 110ms/step - loss: 0.2655 - accuracy: 0.8997 - val_loss: 0.2979 - val_accuracy: 0.8846\n",
            "Epoch 7/100\n",
            "185/185 [==============================] - 20s 109ms/step - loss: 0.2240 - accuracy: 0.9187 - val_loss: 0.3224 - val_accuracy: 0.8462\n",
            "Epoch 8/100\n",
            "185/185 [==============================] - 20s 110ms/step - loss: 0.2125 - accuracy: 0.9350 - val_loss: 0.5936 - val_accuracy: 0.7885\n",
            "Epoch 9/100\n",
            "185/185 [==============================] - 20s 110ms/step - loss: 0.1975 - accuracy: 0.9268 - val_loss: 0.3761 - val_accuracy: 0.8397\n",
            "Epoch 10/100\n",
            "185/185 [==============================] - 20s 109ms/step - loss: 0.1723 - accuracy: 0.9295 - val_loss: 0.3033 - val_accuracy: 0.8782\n",
            "Epoch 11/100\n",
            "185/185 [==============================] - 20s 110ms/step - loss: 0.1910 - accuracy: 0.9472 - val_loss: 0.3505 - val_accuracy: 0.8846\n",
            "Epoch 12/100\n",
            "185/185 [==============================] - 20s 110ms/step - loss: 0.1580 - accuracy: 0.9431 - val_loss: 0.3307 - val_accuracy: 0.8782\n",
            "Epoch 13/100\n",
            "185/185 [==============================] - 20s 110ms/step - loss: 0.1214 - accuracy: 0.9580 - val_loss: 0.3521 - val_accuracy: 0.8910\n",
            "Epoch 14/100\n",
            "185/185 [==============================] - 21s 111ms/step - loss: 0.1185 - accuracy: 0.9553 - val_loss: 0.3108 - val_accuracy: 0.8910\n",
            "Epoch 15/100\n",
            "185/185 [==============================] - 21s 112ms/step - loss: 0.1091 - accuracy: 0.9607 - val_loss: 0.3588 - val_accuracy: 0.8910\n",
            "Epoch 16/100\n",
            "185/185 [==============================] - 20s 110ms/step - loss: 0.0887 - accuracy: 0.9743 - val_loss: 0.4673 - val_accuracy: 0.8782\n",
            "Epoch 16: early stopping\n"
          ]
        }
      ]
    },
    {
      "cell_type": "code",
      "source": [
        "model2.evaluate(test_generator)"
      ],
      "metadata": {
        "colab": {
          "base_uri": "https://localhost:8080/"
        },
        "id": "JtScDaqmGGY8",
        "outputId": "55a95e17-ca96-4821-dded-6d14d0411850"
      },
      "execution_count": 16,
      "outputs": [
        {
          "output_type": "stream",
          "name": "stdout",
          "text": [
            " 8/36 [=====>........................] - ETA: 1s - loss: 0.3871 - accuracy: 0.8438"
          ]
        },
        {
          "output_type": "stream",
          "name": "stderr",
          "text": [
            "/usr/local/lib/python3.7/dist-packages/PIL/Image.py:960: UserWarning: Palette images with Transparency expressed in bytes should be converted to RGBA images\n",
            "  \"Palette images with Transparency expressed in bytes should be \"\n"
          ]
        },
        {
          "output_type": "stream",
          "name": "stdout",
          "text": [
            "36/36 [==============================] - 4s 99ms/step - loss: 0.5569 - accuracy: 0.8472\n"
          ]
        },
        {
          "output_type": "execute_result",
          "data": {
            "text/plain": [
              "[0.5569155216217041, 0.8472222089767456]"
            ]
          },
          "metadata": {},
          "execution_count": 16
        }
      ]
    },
    {
      "cell_type": "code",
      "source": [
        "print(history2.history.keys())\n",
        "keyList = list(history2.history.keys())\n",
        "plt.plot(history2.history[keyList[1]],label = \"Training accuracy\" )\n",
        "plt.plot(history2.history[keyList[3]], label = \"Validation accuracy\" )\n",
        "plt.title(\"Model Learning Curve using Early Stopping\\n and l2 regulation\")\n",
        "plt.xlabel(\"Epochs\")\n",
        "plt.ylabel(\"Accuracy\")"
      ],
      "metadata": {
        "colab": {
          "base_uri": "https://localhost:8080/",
          "height": 345
        },
        "id": "9IjkM2OoGJM9",
        "outputId": "8ce60e86-5c11-46a3-9b93-5b3ecb6570d7"
      },
      "execution_count": 17,
      "outputs": [
        {
          "output_type": "stream",
          "name": "stdout",
          "text": [
            "dict_keys(['loss', 'accuracy', 'val_loss', 'val_accuracy'])\n"
          ]
        },
        {
          "output_type": "execute_result",
          "data": {
            "text/plain": [
              "Text(0, 0.5, 'Accuracy')"
            ]
          },
          "metadata": {},
          "execution_count": 17
        },
        {
          "output_type": "display_data",
          "data": {
            "text/plain": [
              "<Figure size 432x288 with 1 Axes>"
            ],
            "image/png": "[encoded data removed]"
          },
          "metadata": {
            "needs_background": "light"
          }
        }
      ]
    },
    {
      "cell_type": "code",
      "source": [
        "model3 = Sequential()\n",
        "model3.add( Conv2D( 32, (2, 2 ), activation = 'relu', input_shape = (150, 150, 3) ) )\n",
        "model3.add( MaxPooling2D(4 ,4) )\n",
        "model3.add( Conv2D( 16, ( 3, 3 ), activation = 'relu' ) )\n",
        "model3.add( MaxPooling2D(4, 4) )\n",
        "model3.add( Conv2D( 8, ( 5, 5 ), activation = 'relu',padding=\"same\"  ) )\n",
        "model3.add( Flatten() )\n",
        "model3.add( Dense( 10, activation = 'relu' ) )\n",
        "model3.add( Dense( 1, activation = 'sigmoid' ) )\n",
        "model3.summary()"
      ],
      "metadata": {
        "colab": {
          "base_uri": "https://localhost:8080/"
        },
        "id": "a50Yd6A9nH9O",
        "outputId": "72de8cbf-b8d9-4bbe-be8c-a9b6bcdb8d11"
      },
      "execution_count": 18,
      "outputs": [
        {
          "output_type": "stream",
          "name": "stdout",
          "text": [
            "Model: \"sequential_3\"\n",
            "_________________________________________________________________\n",
            " Layer (type)                Output Shape              Param #   \n",
            "=================================================================\n",
            " conv2d_9 (Conv2D)           (None, 149, 149, 32)      416       \n",
            "                                                                 \n",
            " max_pooling2d_6 (MaxPooling  (None, 37, 37, 32)       0         \n",
            " 2D)                                                             \n",
            "                                                                 \n",
            " conv2d_10 (Conv2D)          (None, 35, 35, 16)        4624      \n",
            "                                                                 \n",
            " max_pooling2d_7 (MaxPooling  (None, 8, 8, 16)         0         \n",
            " 2D)                                                             \n",
            "                                                                 \n",
            " conv2d_11 (Conv2D)          (None, 8, 8, 8)           3208      \n",
            "                                                                 \n",
            " flatten_3 (Flatten)         (None, 512)               0         \n",
            "                                                                 \n",
            " dense_6 (Dense)             (None, 10)                5130      \n",
            "                                                                 \n",
            " dense_7 (Dense)             (None, 1)                 11        \n",
            "                                                                 \n",
            "=================================================================\n",
            "Total params: 13,389\n",
            "Trainable params: 13,389\n",
            "Non-trainable params: 0\n",
            "_________________________________________________________________\n"
          ]
        }
      ]
    },
    {
      "cell_type": "code",
      "source": [
        "model3.compile( optimizer = 'rmsprop', loss = 'binary_crossentropy', metrics = [ 'accuracy' ] )\n",
        "history3 = model3.fit( train_generator, validation_data = valid_generator, epochs = 100, batch_size = 64, callbacks=earlystopping)"
      ],
      "metadata": {
        "colab": {
          "base_uri": "https://localhost:8080/"
        },
        "id": "SNeYdimynIn-",
        "outputId": "fa680568-c310-4f1c-ae49-ba233db06476"
      },
      "execution_count": 19,
      "outputs": [
        {
          "output_type": "stream",
          "name": "stdout",
          "text": [
            "Epoch 1/100\n",
            "125/185 [===================>..........] - ETA: 6s - loss: 0.6865 - accuracy: 0.5320"
          ]
        },
        {
          "output_type": "stream",
          "name": "stderr",
          "text": [
            "/usr/local/lib/python3.7/dist-packages/PIL/Image.py:960: UserWarning: Palette images with Transparency expressed in bytes should be converted to RGBA images\n",
            "  \"Palette images with Transparency expressed in bytes should be \"\n"
          ]
        },
        {
          "output_type": "stream",
          "name": "stdout",
          "text": [
            "185/185 [==============================] - 22s 112ms/step - loss: 0.6765 - accuracy: 0.5705 - val_loss: 0.6194 - val_accuracy: 0.6410\n",
            "Epoch 2/100\n",
            "185/185 [==============================] - 21s 111ms/step - loss: 0.5065 - accuracy: 0.7493 - val_loss: 0.8274 - val_accuracy: 0.5769\n",
            "Epoch 3/100\n",
            "185/185 [==============================] - 20s 110ms/step - loss: 0.4062 - accuracy: 0.8252 - val_loss: 0.3541 - val_accuracy: 0.8141\n",
            "Epoch 4/100\n",
            "185/185 [==============================] - 20s 110ms/step - loss: 0.3428 - accuracy: 0.8618 - val_loss: 0.3484 - val_accuracy: 0.8397\n",
            "Epoch 5/100\n",
            "185/185 [==============================] - 21s 111ms/step - loss: 0.3025 - accuracy: 0.8672 - val_loss: 0.2983 - val_accuracy: 0.8846\n",
            "Epoch 6/100\n",
            "185/185 [==============================] - 20s 109ms/step - loss: 0.2695 - accuracy: 0.8970 - val_loss: 0.3085 - val_accuracy: 0.8462\n",
            "Epoch 7/100\n",
            "185/185 [==============================] - 20s 108ms/step - loss: 0.2513 - accuracy: 0.8957 - val_loss: 0.5964 - val_accuracy: 0.8205\n",
            "Epoch 8/100\n",
            "185/185 [==============================] - 20s 110ms/step - loss: 0.2051 - accuracy: 0.9228 - val_loss: 0.3017 - val_accuracy: 0.8974\n",
            "Epoch 9/100\n",
            "185/185 [==============================] - 20s 110ms/step - loss: 0.1983 - accuracy: 0.9173 - val_loss: 0.3093 - val_accuracy: 0.8974\n",
            "Epoch 10/100\n",
            "185/185 [==============================] - 20s 110ms/step - loss: 0.1708 - accuracy: 0.9363 - val_loss: 0.3673 - val_accuracy: 0.8782\n",
            "Epoch 11/100\n",
            "185/185 [==============================] - 20s 110ms/step - loss: 0.1635 - accuracy: 0.9377 - val_loss: 0.3119 - val_accuracy: 0.9038\n",
            "Epoch 12/100\n",
            "185/185 [==============================] - 20s 111ms/step - loss: 0.1364 - accuracy: 0.9526 - val_loss: 0.3737 - val_accuracy: 0.8654\n",
            "Epoch 13/100\n",
            "185/185 [==============================] - 21s 111ms/step - loss: 0.1412 - accuracy: 0.9417 - val_loss: 0.2985 - val_accuracy: 0.8974\n",
            "Epoch 14/100\n",
            "185/185 [==============================] - 20s 111ms/step - loss: 0.1222 - accuracy: 0.9593 - val_loss: 0.3316 - val_accuracy: 0.9038\n",
            "Epoch 15/100\n",
            "185/185 [==============================] - 20s 106ms/step - loss: 0.1047 - accuracy: 0.9702 - val_loss: 0.4406 - val_accuracy: 0.8718\n",
            "Epoch 15: early stopping\n"
          ]
        }
      ]
    },
    {
      "cell_type": "code",
      "source": [
        "model3.evaluate(test_generator)"
      ],
      "metadata": {
        "colab": {
          "base_uri": "https://localhost:8080/"
        },
        "id": "GcakoeBvz6bM",
        "outputId": "1b01936c-950b-4656-94cf-ffdabab9f429"
      },
      "execution_count": 20,
      "outputs": [
        {
          "output_type": "stream",
          "name": "stdout",
          "text": [
            "36/36 [==============================] - 3s 92ms/step - loss: 0.5309 - accuracy: 0.8333\n"
          ]
        },
        {
          "output_type": "stream",
          "name": "stderr",
          "text": [
            "/usr/local/lib/python3.7/dist-packages/PIL/Image.py:960: UserWarning: Palette images with Transparency expressed in bytes should be converted to RGBA images\n",
            "  \"Palette images with Transparency expressed in bytes should be \"\n"
          ]
        },
        {
          "output_type": "execute_result",
          "data": {
            "text/plain": [
              "[0.5309111475944519, 0.8333333134651184]"
            ]
          },
          "metadata": {},
          "execution_count": 20
        }
      ]
    },
    {
      "cell_type": "code",
      "source": [
        "print(history3.history.keys())\n",
        "keyList = list(history3.history.keys())\n",
        "plt.plot(history3.history[keyList[1]],label = \"Training accuracy\" )\n",
        "plt.plot(history3.history[keyList[3]], label = \"Validation accuracy\" )\n",
        "plt.title(\"Model Learning Curve using Early Stopping\")\n",
        "plt.xlabel(\"Epochs\")\n",
        "plt.ylabel(\"Accuracy\")"
      ],
      "metadata": {
        "colab": {
          "base_uri": "https://localhost:8080/",
          "height": 330
        },
        "id": "L3RDeLFynPP0",
        "outputId": "635f7d7f-3a7e-4620-a63f-93958112b4b2"
      },
      "execution_count": 21,
      "outputs": [
        {
          "output_type": "stream",
          "name": "stdout",
          "text": [
            "dict_keys(['loss', 'accuracy', 'val_loss', 'val_accuracy'])\n"
          ]
        },
        {
          "output_type": "execute_result",
          "data": {
            "text/plain": [
              "Text(0, 0.5, 'Accuracy')"
            ]
          },
          "metadata": {},
          "execution_count": 21
        },
        {
          "output_type": "display_data",
          "data": {
            "text/plain": [
              "<Figure size 432x288 with 1 Axes>"
            ],
            "image/png": "[encoded data removed]"
          },
          "metadata": {
            "needs_background": "light"
          }
        }
      ]
    }
  ]
}